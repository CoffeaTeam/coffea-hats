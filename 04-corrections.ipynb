{
 "cells": [
  {
   "cell_type": "markdown",
   "metadata": {},
   "source": [
    "# Applying corrections to columnar data\n",
    "\n",
    "Here we will show how to use the `coffea.lookup_tools` package.\n",
    "It is able to read in a variety of common correction file formats into a standardized lookup table format.\n",
    "We also cover here some CMS-specific tools for jet corrections (`coffea.jetmet_tools`) and b-tagging efficiencies/uncertainties (`coffea.btag_tools`)."
   ]
  },
  {
   "cell_type": "markdown",
   "metadata": {},
   "source": [
    "**Test data**:\n",
    "We'll use NanoEvents to construct some test data."
   ]
  },
  {
   "cell_type": "code",
   "execution_count": 1,
   "metadata": {},
   "outputs": [],
   "source": [
    "from coffea.nanoaod import NanoEvents\n",
    "\n",
    "fname = \"https://github.com/CoffeaTeam/coffea/raw/master/tests/samples/nano_dy.root\"\n",
    "events = NanoEvents.from_file(fname)"
   ]
  },
  {
   "cell_type": "markdown",
   "metadata": {},
   "source": [
    "The entrypoint for `coffea.lookup_tools` is the [extractor class](https://coffeateam.github.io/coffea/api/coffea.lookup_tools.extractor.html#coffea.lookup_tools.extractor)."
   ]
  },
  {
   "cell_type": "code",
   "execution_count": 2,
   "metadata": {},
   "outputs": [],
   "source": [
    "from coffea.lookup_tools import extractor"
   ]
  },
  {
   "cell_type": "code",
   "execution_count": 3,
   "metadata": {},
   "outputs": [
    {
     "name": "stdout",
     "output_type": "stream",
     "text": [
      "~/src/coffea/binder/data ~/src/coffea/binder\n",
      "~/src/coffea/binder\n"
     ]
    }
   ],
   "source": [
    "%%bash\n",
    "# download some sample correction sources\n",
    "mkdir -p data\n",
    "pushd data\n",
    "PREFIX=https://raw.githubusercontent.com/CoffeaTeam/coffea/master/tests/samples\n",
    "curl -Os $PREFIX/testSF2d.histo.root\n",
    "curl -Os $PREFIX/testBTagSF.btag.csv\n",
    "curl -Os $PREFIX/EIDISO_WH_out.histo.json\n",
    "curl -Os $PREFIX/Fall17_17Nov2017_V32_MC_L2Relative_AK4PFPuppi.jec.txt\n",
    "curl -Os $PREFIX/Fall17_17Nov2017_V32_MC_Uncertainty_AK4PFPuppi.junc.txt\n",
    "curl -Os $PREFIX/DeepCSV_102XSF_V1.btag.csv.gz\n",
    "popd"
   ]
  },
  {
   "cell_type": "markdown",
   "metadata": {},
   "source": [
    "## Opening a root file and using it as a lookup table\n",
    "\n",
    "In [tests/samples](https://github.com/CoffeaTeam/coffea/tree/master/tests/samples), there is an example file with a `TH2F` histogram named `scalefactors_Tight_Electron`. The following code reads that histogram into an [evaluator](https://coffeateam.github.io/coffea/api/coffea.lookup_tools.evaluator.html#coffea.lookup_tools.evaluator) instance, under the key `testSF2d` and applies it to some electrons."
   ]
  },
  {
   "cell_type": "code",
   "execution_count": 4,
   "metadata": {},
   "outputs": [
    {
     "name": "stdout",
     "output_type": "stream",
     "text": [
      "available evaluator keys:\n",
      "\t testSF2d\n",
      "testSF2d: 2 dimensional histogram with axes:\n",
      "\t1: [-2.5   -2.    -1.566 -1.444 -0.8    0.     0.8    1.444  1.566  2.\n",
      "  2.5  ]\n",
      "\t2: [ 10.  20.  35.  50.  90. 150. 500.]\n",
      "\n",
      "type of testSF2d: <class 'coffea.lookup_tools.dense_lookup.dense_lookup'>\n"
     ]
    }
   ],
   "source": [
    "ext = extractor()\n",
    "# several histograms can be imported at once using wildcards (*)\n",
    "ext.add_weight_sets([\"testSF2d scalefactors_Tight_Electron data/testSF2d.histo.root\"])\n",
    "ext.finalize()\n",
    "\n",
    "evaluator = ext.make_evaluator()\n",
    "\n",
    "print(\"available evaluator keys:\")\n",
    "for key in evaluator.keys():\n",
    "    print(\"\\t\", key)\n",
    "print(\"testSF2d:\", evaluator['testSF2d'])\n",
    "print(\"type of testSF2d:\", type(evaluator['testSF2d']))"
   ]
  },
  {
   "cell_type": "code",
   "execution_count": 5,
   "metadata": {},
   "outputs": [
    {
     "name": "stdout",
     "output_type": "stream",
     "text": [
      "Electron eta: [[] [1.8317871] [-0.2925415 -0.90405273] ... [0.3809204] [] []]\n",
      "Electron pt: [[] [29.559954] [60.068527 51.70504] ... [7.6768904] [] []]\n",
      "Scale factor: [[] [0.90893763] [0.95308644 0.97167486] ... [0.9458763] [] []]\n"
     ]
    }
   ],
   "source": [
    "print(\"Electron eta:\", events.Electron.eta)\n",
    "print(\"Electron pt:\", events.Electron.pt)\n",
    "print(\"Scale factor:\", evaluator[\"testSF2d\"](events.Electron.eta, events.Electron.pt))"
   ]
  },
  {
   "cell_type": "markdown",
   "metadata": {},
   "source": [
    "## Reading a CMS b-tag scale factor csv file\n",
    "\n",
    "These files have the following structure:"
   ]
  },
  {
   "cell_type": "code",
   "execution_count": 6,
   "metadata": {},
   "outputs": [
    {
     "name": "stdout",
     "output_type": "stream",
     "text": [
      "CSVv2;OperatingPoint, measurementType, sysType, jetFlavor, etaMin, etaMax, ptMin, ptMax, discrMin, discrMax, formula \r\n",
      "0, mujets, central, 1, -2.4, 2.4, 20, 1000, 0, 1, \"0.884016*((1.+(0.0331508*x))/(1.+(0.0285096*x)))\" \r\n",
      "0, mujets, central, 0, -2.4, 2.4, 20, 1000, 0, 1, \"0.884016*((1.+(0.0331508*x))/(1.+(0.0285096*x)))\" \r\n",
      "0, mujets, down, 1, -2.4, 2.4, 20, 30, 0, 1, \"(0.884016*((1.+(0.0331508*x))/(1.+(0.0285096*x))))-0.063606932759284973\" \r\n",
      "0, mujets, down, 1, -2.4, 2.4, 30, 50, 0, 1, \"(0.884016*((1.+(0.0331508*x))/(1.+(0.0285096*x))))-0.034989029169082642\" \r\n"
     ]
    }
   ],
   "source": [
    "%%bash\n",
    "head -5 data/testBTagSF.btag.csv"
   ]
  },
  {
   "cell_type": "markdown",
   "metadata": {},
   "source": [
    "The extractor assumes `*.csv` files have this structure and interprets them as so. The resulting scale factors can be used to calculate b-tagging corrections or uncertainties. **Note**: a high-level b-tagging correction class is also available, see the later sections of this guide."
   ]
  },
  {
   "cell_type": "code",
   "execution_count": 7,
   "metadata": {},
   "outputs": [
    {
     "name": "stdout",
     "output_type": "stream",
     "text": [
      "available evaluator keys:\n",
      "\t testBTagCSVv2_0_comb_central_0\n",
      "\t testBTagCSVv2_0_comb_central_1\n",
      "\t testBTagCSVv2_0_comb_down_0\n",
      "\t testBTagCSVv2_0_comb_down_1\n",
      "\t testBTagCSVv2_0_comb_up_0\n",
      "\t testBTagCSVv2_0_comb_up_1\n",
      "\t testBTagCSVv2_0_incl_central_2\n",
      "\t ...\n",
      "testBTagCSVv2_1_comb_up_0: 3 dimensional histogram with axes:\n",
      "\t1: [-2.4  2.4]\n",
      "\t2: [  20.   30.   50.   70.  100.  140.  200.  300.  600. 1000.]\n",
      "\t3: [0. 1.]\n",
      "\n",
      "type of testBTagCSVv2_1_comb_up_0: <class 'coffea.lookup_tools.dense_evaluated_lookup.dense_evaluated_lookup'>\n"
     ]
    }
   ],
   "source": [
    "ext = extractor()\n",
    "ext.add_weight_sets([\"testBTag * data/testBTagSF.btag.csv\"])\n",
    "ext.finalize()\n",
    "\n",
    "evaluator = ext.make_evaluator()\n",
    "\n",
    "print(\"available evaluator keys:\")\n",
    "for i, key in enumerate(evaluator.keys()):\n",
    "    print(\"\\t\", key)\n",
    "    if i > 5:\n",
    "        print(\"\\t ...\")\n",
    "        break\n",
    "print(\"testBTagCSVv2_1_comb_up_0:\", evaluator['testBTagCSVv2_1_comb_up_0'])\n",
    "print(\"type of testBTagCSVv2_1_comb_up_0:\", type(evaluator['testBTagCSVv2_1_comb_up_0']))"
   ]
  },
  {
   "cell_type": "code",
   "execution_count": 8,
   "metadata": {},
   "outputs": [
    {
     "name": "stdout",
     "output_type": "stream",
     "text": [
      "[[0.9785958455545853 0.9610002158736316 0.9656439239765003 0.9296548480902687 0.9179283293829937] [0.9840973839577624 0.9538546767827345 0.9575751952020568 ... 0.9292283129589114 0.9244534421285959 0.9179720542484187] [0.9831362157051723 0.9723098090198276 0.9670178099828319 0.9408274905816966 0.9466330680514979] ... [0.9468812400906325] [0.9679154032706713 0.9657764203118242 0.9543948424286285 0.945216983982983 0.9403973533206889 0.9176652910628949] [0.9350930568927526 0.9327471888564313]]\n"
     ]
    }
   ],
   "source": [
    "# note: in a real situation you would want to apply the SF on the appropriate jet flavor\n",
    "scalefactor = evaluator['testBTagCSVv2_1_comb_up_0'](events.Jet.eta, events.Jet.pt, events.Jet.btagCSVV2)\n",
    "print(scalefactor)"
   ]
  },
  {
   "cell_type": "markdown",
   "metadata": {},
   "source": [
    "## Importing JSON-encoded histograms\n",
    "\n",
    "Some corrections are provided in a json format, with a structure like\n",
    "```\n",
    "data[category][name][axis1 bin][axis2 bin][\"value\"]\n",
    "```"
   ]
  },
  {
   "cell_type": "code",
   "execution_count": 9,
   "metadata": {},
   "outputs": [
    {
     "name": "stdout",
     "output_type": "stream",
     "text": [
      "{\n",
      "\t\"EIDISO_WH\" : {\n",
      "\t\t\"eta_pt_ratio\" : {\n",
      "\t\t\t\"eta:[ 0.00, 0.80]\":{\n",
      "\t\t\t\t\"pt:[25.00,27.00]\":{\n",
      "\t\t\t\t\t\"value\":0.903,\n",
      "\t\t\t\t\t\"error\":0.051\n",
      "\t\t\t\t},\n",
      "\t\t\t\t\"pt:[27.00,30.00]\":{\n",
      "\t\t\t\t\t\"value\":0.921,\n"
     ]
    }
   ],
   "source": [
    "%%bash\n",
    "head -10 data/EIDISO_WH_out.histo.json"
   ]
  },
  {
   "cell_type": "markdown",
   "metadata": {},
   "source": [
    "The extractor assumes `*.json` files follow this format."
   ]
  },
  {
   "cell_type": "code",
   "execution_count": 10,
   "metadata": {},
   "outputs": [
    {
     "name": "stdout",
     "output_type": "stream",
     "text": [
      "available evaluator keys:\n",
      "\t EIDISO_WH/eta_pt_ratio_error\n",
      "\t EIDISO_WH/eta_pt_ratio_value\n",
      "EIDISO_WH/eta_pt_ratio_value: 2 dimensional histogram with axes:\n",
      "\t1: [-2.5  -2.17 -1.8  -1.57 -1.44 -0.8   0.    0.8   1.44  1.57  1.8   2.17\n",
      "  2.5 ]\n",
      "\t2: [ 25.  27.  30.  32.  35.  40.  50. 200.]\n",
      "\n",
      "type of EIDISO_WH/eta_pt_ratio_value: <class 'coffea.lookup_tools.dense_lookup.dense_lookup'>\n"
     ]
    }
   ],
   "source": [
    "ext = extractor()\n",
    "ext.add_weight_sets([\"* * data/EIDISO_WH_out.histo.json\"])\n",
    "ext.finalize()\n",
    "    \n",
    "evaluator = ext.make_evaluator()\n",
    "\n",
    "print(\"available evaluator keys:\")\n",
    "for key in evaluator.keys():\n",
    "    print(\"\\t\", key)\n",
    "print(\"EIDISO_WH/eta_pt_ratio_value:\", evaluator['EIDISO_WH/eta_pt_ratio_value'])\n",
    "print(\"type of EIDISO_WH/eta_pt_ratio_value:\", type(evaluator['EIDISO_WH/eta_pt_ratio_value']))"
   ]
  },
  {
   "cell_type": "code",
   "execution_count": 11,
   "metadata": {},
   "outputs": [
    {
     "name": "stdout",
     "output_type": "stream",
     "text": [
      "[[] [0.793] [0.904 0.909] ... [0.903] [] []]\n",
      "[[] [0.061] [0.018 0.023] ... [0.051] [] []]\n"
     ]
    }
   ],
   "source": [
    "sf_out = evaluator['EIDISO_WH/eta_pt_ratio_value'](events.Electron.eta, events.Electron.pt)\n",
    "sf_err_out = evaluator['EIDISO_WH/eta_pt_ratio_error'](events.Electron.eta, events.Electron.pt)\n",
    "print(sf_out)\n",
    "print(sf_err_out)"
   ]
  },
  {
   "cell_type": "markdown",
   "metadata": {},
   "source": [
    "## Import CMS Jet Energy Scales and Uncertainties\n",
    "In CMS, the jet energy scale and resolution corrections, as well as their uncertainties are available in a standalone text file format:"
   ]
  },
  {
   "cell_type": "code",
   "execution_count": 12,
   "metadata": {},
   "outputs": [
    {
     "name": "stdout",
     "output_type": "stream",
     "text": [
      "{2 JetEta JetPt 1 JetPt max(0.0001,[0]+((x-[1])*([2]+((x-[1])*([3]+((x-[1])*[4])))))) Correction L2Relative}\n",
      "  -5.191  -4.889     0.001   8.95328     7           8   8.9532766      2.638647259      7.816547526   -0.08418211224   -0.04894120539    0.03974185455\n",
      "  -5.191  -4.889   8.95328   10.4135     7   8.9532766   10.413492      2.538089424      8.953276588   -0.04139022814    0.03931172893   -0.02027504013\n",
      "  -5.191  -4.889   10.4135   12.1083     7   10.413492   12.108301      2.498345769        10.413492   -0.05627613174   -0.01124129111    0.00462608126\n",
      "  -5.191  -4.889   12.1083   14.3796     7   12.108301   14.379634      2.393199605      12.10830116   -0.05451625473 -0.0004401913391   0.001090215218\n"
     ]
    }
   ],
   "source": [
    "%%bash\n",
    "head -5 data/Fall17_17Nov2017_V32_MC_L2Relative_AK4PFPuppi.jec.txt"
   ]
  },
  {
   "cell_type": "code",
   "execution_count": 13,
   "metadata": {},
   "outputs": [
    {
     "name": "stdout",
     "output_type": "stream",
     "text": [
      "{1 JetEta 1 JetPt \"\" Correction Uncertainty}\n",
      "-5.4 -5.0 150 9.0 0.1183 0.1183 11.0 0.1098 0.1098 13.5 0.1033 0.1033 16.5 0.0988 0.0988 19.5 0.0963 0.0963 22.5 0.0947 0.0947 26.0 0.0935 0.0935 30.0 0.0922 0.0922 34.5 0.0910 0.0910 40.0 0.0893 0.0893 46.0 0.0870 0.0870 52.5 0.0850 0.0850 60.0 0.0832 0.0832 69.0 0.0820 0.0820 79.0 0.0811 0.0811 90.5 0.0806 0.0806 105.5 0.0805 0.0805 123.5 0.0809 0.0809 143.0 0.0817 0.0817 163.5 0.0827 0.0827 185.0 0.0832 0.0832 208.0 0.0836 0.0836 232.5 0.0845 0.0845 258.5 0.0849 0.0849 286.0 0.0855 0.0855 331.0 0.0864 0.0864 396.0 0.0875 0.0875 468.5 0.0886 0.0886 549.5 0.0896 0.0896 639.0 0.0906 0.0906 738.0 0.0917 0.0917 847.5 0.0926 0.0926 968.5 0.0936 0.0936 1102.0 0.0945 0.0945 1249.5 0.0955 0.0955 1412.0 0.0964 0.0964 1590.5 0.0972 0.0972 1787.0 0.0981 0.0981 2003.0 0.0990 0.0990 2241.0 0.0998 0.0998 2503.0 0.1007 0.1007 2790.5 0.1015 0.1015 3107.0 0.1023 0.1023 3455.0 0.1031 0.1031 3837.0 0.1041 0.1041 4257.0 0.1051 0.1051 4719.0 0.1060 0.1060 5226.5 0.1069 0.1069 5784.0 0.1078 0.1078 6538.0 0.1089 0.1089 \n",
      "-5.0 -4.4 150 9.0 0.1186 0.1186 11.0 0.1104 0.1104 13.5 0.1040 0.1040 16.5 0.0995 0.0995 19.5 0.0969 0.0969 22.5 0.0953 0.0953 26.0 0.0941 0.0941 30.0 0.0927 0.0927 34.5 0.0914 0.0914 40.0 0.0898 0.0898 46.0 0.0873 0.0873 52.5 0.0853 0.0853 60.0 0.0836 0.0836 69.0 0.0823 0.0823 79.0 0.0813 0.0813 90.5 0.0808 0.0808 105.5 0.0807 0.0807 123.5 0.0810 0.0810 143.0 0.0818 0.0818 163.5 0.0828 0.0828 185.0 0.0832 0.0832 208.0 0.0837 0.0837 232.5 0.0846 0.0846 258.5 0.0850 0.0850 286.0 0.0856 0.0856 331.0 0.0864 0.0864 396.0 0.0875 0.0875 468.5 0.0886 0.0886 549.5 0.0897 0.0897 639.0 0.0907 0.0907 738.0 0.0917 0.0917 847.5 0.0927 0.0927 968.5 0.0936 0.0936 1102.0 0.0946 0.0946 1249.5 0.0955 0.0955 1412.0 0.0964 0.0964 1590.5 0.0973 0.0973 1787.0 0.0981 0.0981 2003.0 0.0990 0.0990 2241.0 0.0998 0.0998 2503.0 0.1007 0.1007 2790.5 0.1015 0.1015 3107.0 0.1023 0.1023 3455.0 0.1032 0.1032 3837.0 0.1041 0.1041 4257.0 0.1051 0.1051 4719.0 0.1060 0.1060 5226.5 0.1069 0.1069 5784.0 0.1079 0.1079 6538.0 0.1089 0.1089 \n"
     ]
    }
   ],
   "source": [
    "%%bash\n",
    "head -3 data/Fall17_17Nov2017_V32_MC_Uncertainty_AK4PFPuppi.junc.txt"
   ]
  },
  {
   "cell_type": "markdown",
   "metadata": {},
   "source": [
    "The extractor assumes files with `*.txt` are to be interpreted as such"
   ]
  },
  {
   "cell_type": "code",
   "execution_count": 14,
   "metadata": {},
   "outputs": [
    {
     "name": "stdout",
     "output_type": "stream",
     "text": [
      "available evaluator keys:\n",
      "\t Fall17_17Nov2017_V32_MC_L2Relative_AK4PFPuppi\n",
      "\t Fall17_17Nov2017_V32_MC_Uncertainty_AK4PFPuppi\n",
      "\n",
      "Fall17_17Nov2017_V32_MC_L2Relative_AK4PFPuppi:\n",
      "binned dims: ['JetEta', 'JetPt']\n",
      "eval vars  : ['JetPt']\n",
      "parameters : ['p0', 'p1', 'p2', 'p3', 'p4']\n",
      "formula    : max(0.0001,p0+((JetPt-p1)*(p2+((JetPt-p1)*(p3+((JetPt-p1)*p4))))))\n",
      "signature  : (JetEta,JetPt)\n",
      "\n",
      "type of Fall17_17Nov2017_V32_MC_L2Relative_AK4PFPuppi:\n",
      "<class 'coffea.lookup_tools.jme_standard_function.jme_standard_function'>\n",
      "\n",
      "Fall17_17Nov2017_V32_MC_Uncertainty_AK4PFPuppi:\n",
      "binned dims   : ['JetEta']\n",
      "eval vars     : ['JetPt']\n",
      "signature     : (JetEta,JetPt)\n",
      "\n",
      "type of Fall17_17Nov2017_V32_MC_Uncertainty_AK4PFPuppi:\n",
      "<class 'coffea.lookup_tools.jec_uncertainty_lookup.jec_uncertainty_lookup'>\n"
     ]
    }
   ],
   "source": [
    "ext = extractor()\n",
    "ext.add_weight_sets([\n",
    "    \"* * data/Fall17_17Nov2017_V32_MC_L2Relative_AK4PFPuppi.jec.txt\",\n",
    "    \"* * data/Fall17_17Nov2017_V32_MC_Uncertainty_AK4PFPuppi.junc.txt\",\n",
    "])\n",
    "ext.finalize()\n",
    "\n",
    "evaluator = ext.make_evaluator()\n",
    "\n",
    "print(\"available evaluator keys:\")\n",
    "for key in evaluator.keys():\n",
    "    print(\"\\t\", key)\n",
    "\n",
    "print()\n",
    "print(\"Fall17_17Nov2017_V32_MC_L2Relative_AK4PFPuppi:\")\n",
    "print(evaluator['Fall17_17Nov2017_V32_MC_L2Relative_AK4PFPuppi'])\n",
    "print(\"type of Fall17_17Nov2017_V32_MC_L2Relative_AK4PFPuppi:\")\n",
    "print(type(evaluator['Fall17_17Nov2017_V32_MC_L2Relative_AK4PFPuppi']))\n",
    "print()\n",
    "print(\"Fall17_17Nov2017_V32_MC_Uncertainty_AK4PFPuppi:\")\n",
    "print(evaluator['Fall17_17Nov2017_V32_MC_Uncertainty_AK4PFPuppi'])\n",
    "print(\"type of Fall17_17Nov2017_V32_MC_Uncertainty_AK4PFPuppi:\")\n",
    "print(type(evaluator['Fall17_17Nov2017_V32_MC_Uncertainty_AK4PFPuppi']))"
   ]
  },
  {
   "cell_type": "code",
   "execution_count": 15,
   "metadata": {},
   "outputs": [
    {
     "name": "stdout",
     "output_type": "stream",
     "text": [
      "Correction factor: [[1.202184560641023 1.2716980831318128 1.408777361876832 1.9846278379254993 1.9990563962160501] [1.0918876169599163 1.2830910435964433 1.22744385216332 ... 1.567689860825753 1.2233231954410926 1.878181634380918] [1.245522967141705 1.0945622011784448 1.1233580984429705 1.3569236669142144 1.5386269767623095] ... [1.116956632039686] [1.3907098927325299 1.2298408028389551 1.668731163992653 1.4624063872279625 1.3652826550726642 1.1631539374453053] [1.3644037381410976 1.1462600986950326]]\n",
      "Uncertainty +: [[1.0112934782608696 1.0451166666666667 1.076304296875 1.1418145833333333 1.1524953125] [1.008795138888889 1.0249375 1.0230455357142858 ... 1.0854833333333334 1.035065625 1.0935018229166666] [1.01329125 1.0116652777777777 1.0129645833333334 1.0580020833333332 1.06828125] ... [1.0241296875] [1.0406416666666667 1.0437400000000001 1.1325080357142858 1.0431854166666668 1.0394140625 1.03729375] [1.0307791666666666 1.029675]]\n",
      "Uncertainty -: [[0.9887065217391304 0.9548833333333333 0.923695703125 0.8581854166666667 0.8475046875] [0.9912048611111111 0.9750624999999999 0.9769544642857143 ... 0.9145166666666666 0.964934375 0.9064981770833334] [0.98670875 0.9883347222222222 0.9870354166666667 0.9419979166666667 0.93171875] ... [0.9758703125] [0.9593583333333333 0.95626 0.8674919642857143 0.9568145833333334 0.9605859375 0.96270625] [0.9692208333333333 0.970325]]\n"
     ]
    }
   ],
   "source": [
    "jec_out = evaluator['Fall17_17Nov2017_V32_MC_L2Relative_AK4PFPuppi'](events.Jet.eta, events.Jet.pt)\n",
    "junc_out = evaluator['Fall17_17Nov2017_V32_MC_Uncertainty_AK4PFPuppi'](events.Jet.eta, events.Jet.pt)\n",
    "print(\"Correction factor:\", jec_out)\n",
    "# junc_out is a double-jagged array, with the last index being the up, down values\n",
    "# they can be separated via indexing, e.g.:\n",
    "print(\"Uncertainty +:\", junc_out[:, :, 0])\n",
    "print(\"Uncertainty -:\", junc_out[:, :, 1])"
   ]
  },
  {
   "cell_type": "markdown",
   "metadata": {},
   "source": [
    "## Applying energy scale transformations to Jets\n",
    "\n",
    "The `coffea.jetmet_tools` package provides a convenience class [JetTransformer](https://coffeateam.github.io/coffea/api/coffea.jetmet_tools.JetTransformer.html#coffea.jetmet_tools.JetTransformer) which applies specified corrections and computes uncertainties in one call."
   ]
  },
  {
   "cell_type": "code",
   "execution_count": 16,
   "metadata": {},
   "outputs": [
    {
     "name": "stdout",
     "output_type": "stream",
     "text": [
      "['Fall17_17Nov2017_V32_MC_L2Relative_AK4PFPuppi', 'Fall17_17Nov2017_V32_MC_Uncertainty_AK4PFPuppi']\n",
      "\n",
      "\n",
      "starting columns: ['p4', '__fast_pt', '__fast_eta', '__fast_phi', '__fast_mass', 'ptRaw', 'massRaw']\n",
      "\n",
      "untransformed pt ratios [[1.0 1.0 1.0 1.0 1.0] [1.0 1.0 1.0 ... 1.0 1.0 1.0] [1.0 1.0 1.0 1.0 1.0] ... [1.0] [1.0 1.0 1.0 1.0 1.0 1.0] [1.0 1.0]]\n",
      "untransformed mass ratios [[1.0 1.0 1.0 1.0 1.0] [1.0 1.0 1.0 ... 1.0 1.0 1.0] [1.0 1.0 1.0 1.0 1.0] ... [1.0] [1.0 1.0 1.0 1.0 1.0 1.0] [1.0 1.0]]\n",
      "transformed pt ratios [[10.752915 2.0528042 2.0025146 2.3431864 2.3270612] [38.442417 2.1503158 1.9879131 ... 1.9859824 2.2219813 2.1700299] [19.859613 1.2518628 2.938386 2.0776932 2.0426795] ... [2.0646994] [1.4474598 4.4525423 2.1270778 2.1266344 2.170731 2.247285] [2.1664758 2.1253204]]\n",
      "transformed mass ratios [[10.752915 2.0528042 2.0025146 2.3431864 2.3270612] [38.442417 2.1503158 1.987913 ... 1.9859824 2.2219813 2.1700299] [19.859613 1.2518628 2.9383862 2.0776932 2.0426795] ... [2.0646994] [1.4474598 4.4525423 2.1270778 2.1266344 2.170731 2.247285] [2.1664758 2.1253204]]\n",
      "\n",
      "transformed columns: ['p4', '__fast_pt', '__fast_eta', '__fast_phi', '__fast_mass', 'ptRaw', 'massRaw', 'pt_jes_up', 'mass_jes_up', 'pt_jes_down', 'mass_jes_down']\n",
      "\n",
      "JES UP pt ratio [[11.742305284576494 2.218496636944248 2.1745757105889227 2.5588890433228153 2.542895048844807] [42.45465604381246 2.3250691891738797 2.1588459930120134 ... 2.156662891283576 2.422788485800463 2.366213812418675] [21.79996927505899 1.2689654753634463 3.180675242044525 2.2479111233283344 2.2200692916042013] ... [2.2446978957923407] [1.5022354415227164 4.829610674796223 2.316364331030521 2.3153067870977293 2.365323728333197 2.45133284063433] [2.362292920401023 2.3155007670211725]]\n",
      "JES DOWN pt ratio [[9.763526314672351 1.8871118614418376 1.8304534924297717 2.1274836388274 2.1112272881879774] [34.43017806040972 1.9755621497411022 1.8169801535351338 ... 1.815301864729145 2.0211741854111565 1.9738461513164927] [17.919257987591443 1.2347600003750585 2.6960968800497427 1.9074751491193862 1.865289680926685] ... [1.884701065867259] [1.3926841032182569 4.075473754597072 1.9377913776592939 1.9379618525393367 1.9761383463420283 2.0432370777219244] [1.9706587189919873 1.9351399895518189]]\n"
     ]
    },
    {
     "name": "stderr",
     "output_type": "stream",
     "text": [
      "/Users/ncsmith/src/coffea/coffea/jetmet_tools/JetTransformer.py:132: UserWarning: Input JaggedCandidateArray must have \"ptGenJet\" in order to apply hybrid JER smearing method. Stochastic smearing will be applied.\n",
      "  warnings.warn('Input JaggedCandidateArray must have \"ptGenJet\" in order to apply hybrid JER smearing method. Stochastic smearing will be applied.')\n"
     ]
    }
   ],
   "source": [
    "from coffea.analysis_objects import JaggedCandidateArray\n",
    "from coffea.jetmet_tools import FactorizedJetCorrector, JetCorrectionUncertainty\n",
    "from coffea.jetmet_tools import JetTransformer\n",
    "\n",
    "ext = extractor()\n",
    "ext.add_weight_sets([\n",
    "    \"* * data/Fall17_17Nov2017_V32_MC_L2Relative_AK4PFPuppi.jec.txt\",\n",
    "    \"* * data/Fall17_17Nov2017_V32_MC_Uncertainty_AK4PFPuppi.junc.txt\",\n",
    "])\n",
    "ext.finalize()\n",
    "\n",
    "evaluator = ext.make_evaluator()\n",
    "\n",
    "print(dir(evaluator))\n",
    "print()\n",
    "\n",
    "jets = JaggedCandidateArray.candidatesfromcounts(\n",
    "    events.Jet.counts,\n",
    "    pt=(events.Jet.pt * (1 - events.Jet.rawFactor)).flatten(),\n",
    "    eta=events.Jet.y.flatten(),\n",
    "    phi=events.Jet.z.flatten(),\n",
    "    mass=(events.Jet.mass * (1 - events.Jet.rawFactor)).flatten(),\n",
    ")\n",
    "jets.add_attributes(ptRaw=jets.pt, massRaw=jets.mass)\n",
    "\n",
    "corrector = FactorizedJetCorrector(\n",
    "    Fall17_17Nov2017_V32_MC_L2Relative_AK4PFPuppi=evaluator['Fall17_17Nov2017_V32_MC_L2Relative_AK4PFPuppi'],\n",
    ")\n",
    "uncertainties = JetCorrectionUncertainty(\n",
    "    Fall17_17Nov2017_V32_MC_Uncertainty_AK4PFPuppi=evaluator['Fall17_17Nov2017_V32_MC_Uncertainty_AK4PFPuppi']\n",
    ")\n",
    "\n",
    "transformer = JetTransformer(jec=corrector, junc=uncertainties)\n",
    "### more possibilities are available if you send in more pieces of the JEC stack\n",
    "# mc2016_ak8_jxform = JetTransformer(jec=MC_AK8JEC2016,junc=MC_AK8JUNC2016\n",
    "#                                    jer=MC_AK8JER2016,jersf=MC_AK8JERSF2016)\n",
    "\n",
    "print()\n",
    "print('starting columns:',jets.columns)\n",
    "print()\n",
    "\n",
    "print('untransformed pt ratios',jets.pt/jets.ptRaw)\n",
    "print('untransformed mass ratios',jets.mass/jets.massRaw)\n",
    "\n",
    "transformer.transform(jets)\n",
    "\n",
    "print('transformed pt ratios',jets.pt/jets.ptRaw)\n",
    "print('transformed mass ratios',jets.mass/jets.massRaw)\n",
    "\n",
    "print()\n",
    "print('transformed columns:',jets.columns)\n",
    "print()\n",
    "\n",
    "print('JES UP pt ratio',jets.pt_jes_up/jets.ptRaw)\n",
    "print('JES DOWN pt ratio',jets.pt_jes_down/jets.ptRaw)"
   ]
  },
  {
   "cell_type": "markdown",
   "metadata": {},
   "source": [
    "## Applying CMS b-tagging corrections\n",
    "The `coffea.btag_tools` module provides the high-level utility [BTagScaleFactor](https://coffeateam.github.io/coffea/api/coffea.btag_tools.BTagScaleFactor.html#coffea.btag_tools.BTagScaleFactor) which calculates per-jet weights for b-tagging as well as light flavor mis-tagging efficiencies. Uncertainties can be calculated as well."
   ]
  },
  {
   "cell_type": "code",
   "execution_count": 17,
   "metadata": {},
   "outputs": [
    {
     "name": "stdout",
     "output_type": "stream",
     "text": [
      "SF: [[1.5161152 1.5639066 1.5871302 1.6016396 1.6016396] [0.9692495 1.5735233 1.5926374 ... 1.6016396 1.6016396 1.6016396] [1.4951758 1.5372105 1.5500163 0.97201425 1.5985525] ... [1.5984341] [1.548068 1.5525818 1.5945162 1.599216 1.6013302 1.6016396] [1.6016396 1.6016396]]\n",
      "systematic +: [[1.7205677 1.767022 1.7894627 1.8034393 1.8034393] [1.01311 1.776325 1.7947717 ... 1.8034393 1.8034393 1.8034393] [1.7000965 1.7411186 1.7535585 1.0171813 1.8004683] ... [1.8003544] [1.7516676 1.7560475 1.7965817 1.801107 1.8031416 1.8034393] [1.8034393 1.8034393]]\n"
     ]
    }
   ],
   "source": [
    "from coffea.btag_tools import BTagScaleFactor\n",
    "\n",
    "btag_sf = BTagScaleFactor(\"data/DeepCSV_102XSF_V1.btag.csv.gz\", \"medium\")\n",
    "\n",
    "print(\"SF:\", btag_sf.eval(\"central\", events.Jet.hadronFlavour, abs(events.Jet.eta), events.Jet.pt))\n",
    "print(\"systematic +:\", btag_sf.eval(\"up\", events.Jet.hadronFlavour, abs(events.Jet.eta), events.Jet.pt))"
   ]
  }
 ],
 "metadata": {
  "kernelspec": {
   "display_name": "Python 3",
   "language": "python",
   "name": "python3"
  },
  "language_info": {
   "codemirror_mode": {
    "name": "ipython",
    "version": 3
   },
   "file_extension": ".py",
   "mimetype": "text/x-python",
   "name": "python",
   "nbconvert_exporter": "python",
   "pygments_lexer": "ipython3",
   "version": "3.7.6"
  }
 },
 "nbformat": 4,
 "nbformat_minor": 2
}
