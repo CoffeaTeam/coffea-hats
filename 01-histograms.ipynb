{
 "cells": [
  {
   "cell_type": "markdown",
   "metadata": {},
   "source": [
    "Histograms\n",
    "==========\n",
    "\n",
    "In scientific python, histograms seem to be considered as a plot style, on equal footing with, e.g. scatter plots.\n",
    "It may well be that HEP is the only place where users need to plot *pre-binned* data, and thus must use histograms as persistent objects representing reduced data.  In scikit-hep, the [hist](https://hist.readthedocs.io/en/latest/)package provides a persistable and mergable histogram object. This notebook will discuss a few ways that such objects can be manipulated.\n",
    "\n",
    "A histogram object roughly goes through three stages in its life:\n",
    "   - Filling\n",
    "   - Transformation (projection, rebinning, integrating)\n",
    "   - Plotting\n",
    "\n",
    "We'll go over examples of each stage in this notebook, and conclude with some styling examples."
   ]
  },
  {
   "cell_type": "markdown",
   "metadata": {},
   "source": [
    "## Filling\n",
    "Let's start with filling.  We'll use a random distribution [near and dear](https://en.wikipedia.org/wiki/ARGUS_distribution) to of b and c factory physicists, and have the numpy builtin [histogram function](https://numpy.org/doc/stable/reference/generated/numpy.histogram.html) do the work for us:"
   ]
  },
  {
   "cell_type": "code",
   "execution_count": 1,
   "metadata": {},
   "outputs": [
    {
     "name": "stdout",
     "output_type": "stream",
     "text": [
      "(array([ 30,  54,  65,  91, 116, 130, 138, 140, 137,  99]), array([0.03172845, 0.12810744, 0.22448643, 0.32086542, 0.41724442,\n",
      "       0.51362341, 0.6100024 , 0.70638139, 0.80276038, 0.89913937,\n",
      "       0.99551836]))\n"
     ]
    }
   ],
   "source": [
    "import numpy as np\n",
    "from scipy.stats import argus\n",
    "\n",
    "vals = argus(chi=.5).rvs(size=1000)\n",
    "\n",
    "h = np.histogram(vals)\n",
    "print(h)"
   ]
  },
  {
   "cell_type": "markdown",
   "metadata": {},
   "source": [
    "So we're done, right?\n",
    "Probably not: we have more than 1000 events, and probably need to use some map-reduce paradigm to fill the histogram because we can't keep all 1 billion `vals` in memory.  So we need two things: a binning, so that all histograms that were independently created can be added, and the ability to add histograms. The former is satisfied by the `bins` argument to `np.histogram`, and the latter can be done manually, e.g."
   ]
  },
  {
   "cell_type": "code",
   "execution_count": 2,
   "metadata": {},
   "outputs": [],
   "source": [
    "h1 = np.histogram(vals, bins=np.linspace(0, 100, 10))\n",
    "h2 = np.histogram(vals, bins=np.linspace(0, 100, 10))\n",
    "h = (h1[0], h1[1] + h2[1])"
   ]
  },
  {
   "cell_type": "markdown",
   "metadata": {},
   "source": [
    "Of course, we might want multidimensional histograms.  There is `np.histogramdd`:"
   ]
  },
  {
   "cell_type": "code",
   "execution_count": 3,
   "metadata": {},
   "outputs": [],
   "source": [
    "xyz = np.random.multivariate_normal(mean=[1, 3, 7], cov=np.eye(3), size=10000)\n",
    "\n",
    "xbins = np.linspace(-10, 10, 20)\n",
    "ybins = np.linspace(-10, 10, 20)\n",
    "zbins = np.linspace(-10, 10, 20)\n",
    "hnumpy = np.histogramdd(xyz, bins=(xbins, ybins, zbins))"
   ]
  },
  {
   "cell_type": "markdown",
   "metadata": {},
   "source": [
    "but we are becoming challenged by book-keeping of the axees.\n",
    "The [hist.axis](https://hist.readthedocs.io/en/latest/user-guide/notebooks/Axis.html) module is designed to simplify this work. `hist` supports six types of axes: `Regular`, `Boolean`, `Variable`, `Integer`, `IntCategory` and `StrCategory`. Each can take a name and label to provide useful context when later manipulating or plotting the histogram.\n",
    "\n",
    "There are also multiple bin [storage](https://hist.readthedocs.io/en/latest/user-guide/notebooks/Storage.html) types. The default is `Double`. One common alterenative is `Weight`, which keeps track of both the sum of bin weights and the sum of weights squared.\n",
    "\n",
    "In the histogram constructor you specify each axis. Each axis constructor takes several arguments, such as the number of bins, or a pre-transform (useful for log-regular axes), or behavior when encountering values out of range."
   ]
  },
  {
   "cell_type": "code",
   "execution_count": 4,
   "metadata": {},
   "outputs": [
    {
     "data": {
      "text/html": [
       "<html>\n",
       "<div style=\"display:flex; align-items:center;\">\n",
       "<div style=\"width:290px;\">\n",
       "<svg xmlns=\"http://www.w3.org/2000/svg\" viewBox=\"-10 -10 220 220\">\n",
       "<rect x=\"0\" y=\"0\" width=\"160\" height=\"160\" style=\"fill:white;opacity:.5;stroke-width:2;stroke:currentColor;\"/>\n",
       "<rect x=\"20\" y=\"20\" width=\"160\" height=\"160\" style=\"fill:white;opacity:.5;stroke-width:2;stroke:currentColor;\"/>\n",
       "<rect x=\"40\" y=\"40\" width=\"160\" height=\"160\" style=\"fill:white;opacity:.5;stroke-width:2;stroke:currentColor;\"/>\n",
       "<text x=\"120.0\" y=\"120.0\" style=\"font-size: 26pt; font-family: verdana; font-style: bold; fill: black;\" text-anchor=\"middle\" alignment-baseline=\"middle\">\n",
       "4D\n",
       "</text>\n",
       "</svg>\n",
       "</div>\n",
       "<div style=\"flex=grow:1;\">\n",
       "StrCategory(['pass', 'fail'])<br/>\n",
       "Regular(10, 0, 10, name='x', label='x')<br/>\n",
       "Regular(10, 0, 10, name='y', label='y')<br/>\n",
       "Regular(10, 0, 10, name='z', label='z')<br/>\n",
       "<hr style=\"margin-top:.2em; margin-bottom:.2em;\"/>\n",
       "Weight() Σ=WeightedSum(value=0, variance=0)\n",
       "\n",
       "</div>\n",
       "</div>\n",
       "</html>"
      ],
      "text/plain": [
       "Hist(\n",
       "  StrCategory(['pass', 'fail']),\n",
       "  Regular(10, 0, 10, name='x', label='x'),\n",
       "  Regular(10, 0, 10, name='y', label='y'),\n",
       "  Regular(10, 0, 10, name='z', label='z'),\n",
       "  storage=Weight()) # Sum: WeightedSum(value=0, variance=0)"
      ]
     },
     "execution_count": 4,
     "metadata": {},
     "output_type": "execute_result"
    }
   ],
   "source": [
    "import hist\n",
    "\n",
    "h = hist.Hist(\n",
    "    hist.axis.StrCategory([\"pass\", \"fail\"], name=\"cat\"),\n",
    "    hist.axis.Regular(10, 0, 10, name=\"x\"),\n",
    "    hist.axis.Regular(10, 0, 10, name=\"y\"),\n",
    "    hist.axis.Regular(10, 0, 10, name=\"z\"),\n",
    "    hist.storage.Weight(),\n",
    ")\n",
    "h"
   ]
  },
  {
   "cell_type": "code",
   "execution_count": 5,
   "metadata": {},
   "outputs": [
    {
     "data": {
      "text/html": [
       "<html>\n",
       "<div style=\"display:flex; align-items:center;\">\n",
       "<div style=\"width:290px;\">\n",
       "<svg xmlns=\"http://www.w3.org/2000/svg\" viewBox=\"-10 -10 220 220\">\n",
       "<rect x=\"0\" y=\"0\" width=\"160\" height=\"160\" style=\"fill:white;opacity:.5;stroke-width:2;stroke:currentColor;\"/>\n",
       "<rect x=\"20\" y=\"20\" width=\"160\" height=\"160\" style=\"fill:white;opacity:.5;stroke-width:2;stroke:currentColor;\"/>\n",
       "<rect x=\"40\" y=\"40\" width=\"160\" height=\"160\" style=\"fill:white;opacity:.5;stroke-width:2;stroke:currentColor;\"/>\n",
       "<text x=\"120.0\" y=\"120.0\" style=\"font-size: 26pt; font-family: verdana; font-style: bold; fill: black;\" text-anchor=\"middle\" alignment-baseline=\"middle\">\n",
       "4D\n",
       "</text>\n",
       "</svg>\n",
       "</div>\n",
       "<div style=\"flex=grow:1;\">\n",
       "StrCategory(['pass', 'fail'])<br/>\n",
       "Regular(10, 0, 10, name='x', label='x')<br/>\n",
       "Regular(10, 0, 10, name='y', label='y')<br/>\n",
       "Regular(10, 0, 10, name='z', label='z')<br/>\n",
       "<hr style=\"margin-top:.2em; margin-bottom:.2em;\"/>\n",
       "Weight() Σ=WeightedSum(value=20490.8, variance=25822) <em>(WeightedSum(value=24414.4, variance=30780.3) with flow)</em>\n",
       "\n",
       "</div>\n",
       "</div>\n",
       "</html>"
      ],
      "text/plain": [
       "Hist(\n",
       "  StrCategory(['pass', 'fail']),\n",
       "  Regular(10, 0, 10, name='x', label='x'),\n",
       "  Regular(10, 0, 10, name='y', label='y'),\n",
       "  Regular(10, 0, 10, name='z', label='z'),\n",
       "  storage=Weight()) # Sum: WeightedSum(value=20490.8, variance=25822) (WeightedSum(value=24414.4, variance=30780.3) with flow)"
      ]
     },
     "execution_count": 5,
     "metadata": {},
     "output_type": "execute_result"
    }
   ],
   "source": [
    "h.fill(cat=\"pass\", x=xyz[:,0], y=xyz[:,1], z=xyz[:,2])\n",
    "\n",
    "# suppose we have another sample of xyz values\n",
    "xyz_sample2 = np.random.multivariate_normal(mean=[1, 3, 7], cov=np.eye(3), size=10000)\n",
    "\n",
    "# additionally, lets assume entries in sample 2 have some non-uniform weight equal to atan(distance from origin)\n",
    "weight = np.arctan(np.sqrt(np.power(xyz_sample2, 2).sum(axis=1)))\n",
    "\n",
    "# weight is a reserved keyword in Hist, and can be added to any fill() call\n",
    "h.fill(cat=\"fail\", x=xyz_sample2[:,0], y=xyz_sample2[:,1], z=xyz_sample2[:,2], weight=weight)\n",
    "\n",
    "h"
   ]
  },
  {
   "cell_type": "markdown",
   "metadata": {},
   "source": [
    "There is also a shortcut syntax:"
   ]
  },
  {
   "cell_type": "code",
   "execution_count": 6,
   "metadata": {},
   "outputs": [
    {
     "data": {
      "text/plain": [
       "True"
      ]
     },
     "execution_count": 6,
     "metadata": {},
     "output_type": "execute_result"
    }
   ],
   "source": [
    "h2 = (\n",
    "    hist.Hist.new\n",
    "    .StrCat([\"pass\", \"fail\"], name=\"cat\")\n",
    "    .Reg(10, 0, 10, name=\"x\")\n",
    "    .Reg(10, 0, 10, name=\"y\")\n",
    "    .Reg(10, 0, 10, name=\"z\")\n",
    "    .Weight()\n",
    ")\n",
    "h2.axes == h.axes"
   ]
  },
  {
   "cell_type": "markdown",
   "metadata": {},
   "source": [
    "Another useful storage type is `Mean`, which can be used to create profiles by saving the exact mean and std of one dimension. Below we replace the `z` axis with a `WeightedMean` storage and fill the `sample` attribute with the `z` values from before:"
   ]
  },
  {
   "cell_type": "code",
   "execution_count": 7,
   "metadata": {},
   "outputs": [
    {
     "data": {
      "text/html": [
       "<html>\n",
       "<div style=\"display:flex; align-items:center;\">\n",
       "<div style=\"width:290px;\">\n",
       "<svg xmlns=\"http://www.w3.org/2000/svg\" viewBox=\"-10 -10 220 220\">\n",
       "<rect x=\"0\" y=\"0\" width=\"160\" height=\"160\" style=\"fill:white;opacity:.5;stroke-width:2;stroke:currentColor;\"/>\n",
       "<rect x=\"20\" y=\"20\" width=\"160\" height=\"160\" style=\"fill:white;opacity:.5;stroke-width:2;stroke:currentColor;\"/>\n",
       "<rect x=\"40\" y=\"40\" width=\"160\" height=\"160\" style=\"fill:white;opacity:.5;stroke-width:2;stroke:currentColor;\"/>\n",
       "<text x=\"120.0\" y=\"120.0\" style=\"font-size: 26pt; font-family: verdana; font-style: bold; fill: black;\" text-anchor=\"middle\" alignment-baseline=\"middle\">\n",
       "3D\n",
       "</text>\n",
       "</svg>\n",
       "</div>\n",
       "<div style=\"flex=grow:1;\">\n",
       "StrCategory(['pass', 'fail'])<br/>\n",
       "Regular(10, 0, 10, name='x', label='x')<br/>\n",
       "Regular(10, 0, 10, name='y', label='y')<br/>\n",
       "<hr style=\"margin-top:.2em; margin-bottom:.2em;\"/>\n",
       "WeightedMean() Σ=WeightedMean(sum_of_weights=20514.6, sum_of_weights_squared=25852.8, value=7.01196, variance=1.01635) <em>(WeightedMean(sum_of_weights=24414.4, sum_of_weights_squared=30780.3, value=7.00769, variance=1.00755) with flow)</em>\n",
       "\n",
       "</div>\n",
       "</div>\n",
       "</html>"
      ],
      "text/plain": [
       "Hist(\n",
       "  StrCategory(['pass', 'fail']),\n",
       "  Regular(10, 0, 10, name='x', label='x'),\n",
       "  Regular(10, 0, 10, name='y', label='y'),\n",
       "  storage=WeightedMean()) # Sum: WeightedMean(sum_of_weights=20514.6, sum_of_weights_squared=25852.8, value=7.01196, variance=1.01635) (WeightedMean(sum_of_weights=24414.4, sum_of_weights_squared=30780.3, value=7.00769, variance=1.00755) with flow)"
      ]
     },
     "execution_count": 7,
     "metadata": {},
     "output_type": "execute_result"
    }
   ],
   "source": [
    "hprof = (\n",
    "    hist.Hist.new\n",
    "    .StrCat([\"pass\", \"fail\"], name=\"cat\")\n",
    "    .Reg(10, 0, 10, name=\"x\")\n",
    "    .Reg(10, 0, 10, name=\"y\")\n",
    "    .WeightedMean()\n",
    ")\n",
    "hprof.fill(cat=\"pass\", x=xyz[:,0], y=xyz[:,1], sample=xyz[:,2])\n",
    "hprof.fill(cat=\"fail\", x=xyz_sample2[:,0], y=xyz_sample2[:,1], sample=xyz_sample2[:,2], weight=weight)\n",
    "hprof"
   ]
  },
  {
   "cell_type": "markdown",
   "metadata": {},
   "source": [
    "## Transformation"
   ]
  },
  {
   "cell_type": "markdown",
   "metadata": {},
   "source": [
    "Transformation of multidimensional histograms follows the [Unified Histogram Interface](https://uhi.readthedocs.io/en/latest/). This interface takes inspiration from python slicing and numpy indexing to provide expressive histogram manipulation. Below we demo a few example transformations:"
   ]
  },
  {
   "cell_type": "code",
   "execution_count": 8,
   "metadata": {},
   "outputs": [
    {
     "data": {
      "text/html": [
       "<html>\n",
       "<div style=\"display:flex; align-items:center;\">\n",
       "<div style=\"width:290px;\">\n",
       "<svg xmlns=\"http://www.w3.org/2000/svg\" viewBox=\"-10 -10 220 220\">\n",
       "<rect x=\"0\" y=\"0\" width=\"160\" height=\"160\" style=\"fill:white;opacity:.5;stroke-width:2;stroke:currentColor;\"/>\n",
       "<rect x=\"20\" y=\"20\" width=\"160\" height=\"160\" style=\"fill:white;opacity:.5;stroke-width:2;stroke:currentColor;\"/>\n",
       "<rect x=\"40\" y=\"40\" width=\"160\" height=\"160\" style=\"fill:white;opacity:.5;stroke-width:2;stroke:currentColor;\"/>\n",
       "<text x=\"120.0\" y=\"120.0\" style=\"font-size: 26pt; font-family: verdana; font-style: bold; fill: black;\" text-anchor=\"middle\" alignment-baseline=\"middle\">\n",
       "3D\n",
       "</text>\n",
       "</svg>\n",
       "</div>\n",
       "<div style=\"flex=grow:1;\">\n",
       "StrCategory(['pass', 'fail'])<br/>\n",
       "Regular(10, 0, 10, name='y', label='y')<br/>\n",
       "Regular(10, 0, 10, name='z', label='z')<br/>\n",
       "<hr style=\"margin-top:.2em; margin-bottom:.2em;\"/>\n",
       "Weight() Σ=WeightedSum(value=24356.1, variance=30704.2) <em>(WeightedSum(value=24414.4, variance=30780.3) with flow)</em>\n",
       "\n",
       "</div>\n",
       "</div>\n",
       "</html>"
      ],
      "text/plain": [
       "Hist(\n",
       "  StrCategory(['pass', 'fail']),\n",
       "  Regular(10, 0, 10, name='y', label='y'),\n",
       "  Regular(10, 0, 10, name='z', label='z'),\n",
       "  storage=Weight()) # Sum: WeightedSum(value=24356.1, variance=30704.2) (WeightedSum(value=24414.4, variance=30780.3) with flow)"
      ]
     },
     "execution_count": 8,
     "metadata": {},
     "output_type": "execute_result"
    }
   ],
   "source": [
    "# sum all x bins, including overflow\n",
    "h[:, ::sum, :, :]"
   ]
  },
  {
   "cell_type": "code",
   "execution_count": 9,
   "metadata": {},
   "outputs": [
    {
     "data": {
      "text/html": [
       "<html>\n",
       "<div style=\"display:flex; align-items:center;\">\n",
       "<div style=\"width:290px;\">\n",
       "<svg xmlns=\"http://www.w3.org/2000/svg\" viewBox=\"-10 -10 220 220\">\n",
       "<rect x=\"0\" y=\"0\" width=\"160\" height=\"160\" style=\"fill:white;opacity:.5;stroke-width:2;stroke:currentColor;\"/>\n",
       "<rect x=\"20\" y=\"20\" width=\"160\" height=\"160\" style=\"fill:white;opacity:.5;stroke-width:2;stroke:currentColor;\"/>\n",
       "<rect x=\"40\" y=\"40\" width=\"160\" height=\"160\" style=\"fill:white;opacity:.5;stroke-width:2;stroke:currentColor;\"/>\n",
       "<text x=\"120.0\" y=\"120.0\" style=\"font-size: 26pt; font-family: verdana; font-style: bold; fill: black;\" text-anchor=\"middle\" alignment-baseline=\"middle\">\n",
       "3D\n",
       "</text>\n",
       "</svg>\n",
       "</div>\n",
       "<div style=\"flex=grow:1;\">\n",
       "StrCategory(['pass', 'fail'])<br/>\n",
       "Regular(10, 0, 10, name='y', label='y')<br/>\n",
       "Regular(10, 0, 10, name='z', label='z')<br/>\n",
       "<hr style=\"margin-top:.2em; margin-bottom:.2em;\"/>\n",
       "Weight() Σ=WeightedSum(value=20490.8, variance=25822) <em>(WeightedSum(value=20540.4, variance=25887) with flow)</em>\n",
       "\n",
       "</div>\n",
       "</div>\n",
       "</html>"
      ],
      "text/plain": [
       "Hist(\n",
       "  StrCategory(['pass', 'fail']),\n",
       "  Regular(10, 0, 10, name='y', label='y'),\n",
       "  Regular(10, 0, 10, name='z', label='z'),\n",
       "  storage=Weight()) # Sum: WeightedSum(value=20490.8, variance=25822) (WeightedSum(value=20540.4, variance=25887) with flow)"
      ]
     },
     "execution_count": 9,
     "metadata": {},
     "output_type": "execute_result"
    }
   ],
   "source": [
    "# sum all x bins within nominal range [0, 10)\n",
    "h[:, hist.loc(0.0):hist.loc(10.0):sum, :, :]"
   ]
  },
  {
   "cell_type": "code",
   "execution_count": 10,
   "metadata": {},
   "outputs": [
    {
     "data": {
      "text/html": [
       "<html>\n",
       "<div style=\"display:flex; align-items:center;\">\n",
       "<div style=\"width:290px;\">\n",
       "<svg xmlns=\"http://www.w3.org/2000/svg\" viewBox=\"-10 -10 220 220\">\n",
       "<rect x=\"0\" y=\"0\" width=\"160\" height=\"160\" style=\"fill:white;opacity:.5;stroke-width:2;stroke:currentColor;\"/>\n",
       "<rect x=\"20\" y=\"20\" width=\"160\" height=\"160\" style=\"fill:white;opacity:.5;stroke-width:2;stroke:currentColor;\"/>\n",
       "<rect x=\"40\" y=\"40\" width=\"160\" height=\"160\" style=\"fill:white;opacity:.5;stroke-width:2;stroke:currentColor;\"/>\n",
       "<text x=\"120.0\" y=\"120.0\" style=\"font-size: 26pt; font-family: verdana; font-style: bold; fill: black;\" text-anchor=\"middle\" alignment-baseline=\"middle\">\n",
       "3D\n",
       "</text>\n",
       "</svg>\n",
       "</div>\n",
       "<div style=\"flex=grow:1;\">\n",
       "Regular(5, 0, 5, name='x', label='x')<br/>\n",
       "Regular(5, 0, 5, name='y', label='y')<br/>\n",
       "Regular(5, 0, 5, name='z', label='z')<br/>\n",
       "<hr style=\"margin-top:.2em; margin-bottom:.2em;\"/>\n",
       "Weight() Σ=WeightedSum(value=203, variance=203) <em>(WeightedSum(value=10000, variance=10000) with flow)</em>\n",
       "\n",
       "</div>\n",
       "</div>\n",
       "</html>"
      ],
      "text/plain": [
       "Hist(\n",
       "  Regular(5, 0, 5, name='x', label='x'),\n",
       "  Regular(5, 0, 5, name='y', label='y'),\n",
       "  Regular(5, 0, 5, name='z', label='z'),\n",
       "  storage=Weight()) # Sum: WeightedSum(value=203, variance=203) (WeightedSum(value=10000, variance=10000) with flow)"
      ]
     },
     "execution_count": 10,
     "metadata": {},
     "output_type": "execute_result"
    }
   ],
   "source": [
    "# take the first 5 bins in each dimension for the pass catgory\n",
    "h[\"pass\", :5, :5, :5]"
   ]
  },
  {
   "cell_type": "code",
   "execution_count": 11,
   "metadata": {},
   "outputs": [
    {
     "data": {
      "text/html": [
       "<html>\n",
       "<div style=\"display:flex; align-items:center;\">\n",
       "<div style=\"width:290px;\">\n",
       "<svg xmlns=\"http://www.w3.org/2000/svg\" viewBox=\"-10 -10 220 220\">\n",
       "<rect x=\"0\" y=\"0\" width=\"160\" height=\"160\" style=\"fill:white;opacity:.5;stroke-width:2;stroke:currentColor;\"/>\n",
       "<rect x=\"20\" y=\"20\" width=\"160\" height=\"160\" style=\"fill:white;opacity:.5;stroke-width:2;stroke:currentColor;\"/>\n",
       "<rect x=\"40\" y=\"40\" width=\"160\" height=\"160\" style=\"fill:white;opacity:.5;stroke-width:2;stroke:currentColor;\"/>\n",
       "<text x=\"120.0\" y=\"120.0\" style=\"font-size: 26pt; font-family: verdana; font-style: bold; fill: black;\" text-anchor=\"middle\" alignment-baseline=\"middle\">\n",
       "3D\n",
       "</text>\n",
       "</svg>\n",
       "</div>\n",
       "<div style=\"flex=grow:1;\">\n",
       "StrCategory(['pass', 'fail'])<br/>\n",
       "Regular(10, 0, 10, name='x', label='x')<br/>\n",
       "Regular(10, 0, 10, name='z', label='z')<br/>\n",
       "<hr style=\"margin-top:.2em; margin-bottom:.2em;\"/>\n",
       "Weight() Σ=WeightedSum(value=17211.6, variance=21690.4) <em>(WeightedSum(value=20510.9, variance=25859.5) with flow)</em>\n",
       "\n",
       "</div>\n",
       "</div>\n",
       "</html>"
      ],
      "text/plain": [
       "Hist(\n",
       "  StrCategory(['pass', 'fail']),\n",
       "  Regular(10, 0, 10, name='x', label='x'),\n",
       "  Regular(10, 0, 10, name='z', label='z'),\n",
       "  storage=Weight()) # Sum: WeightedSum(value=17211.6, variance=21690.4) (WeightedSum(value=20510.9, variance=25859.5) with flow)"
      ]
     },
     "execution_count": 11,
     "metadata": {},
     "output_type": "execute_result"
    }
   ],
   "source": [
    "# sum all y bins within a specific range [2, 9)\n",
    "h[{\"y\": slice(hist.loc(2.0), hist.loc(9.), sum)}]"
   ]
  },
  {
   "cell_type": "code",
   "execution_count": 12,
   "metadata": {},
   "outputs": [
    {
     "data": {
      "text/html": [
       "<html>\n",
       "<div style=\"display:flex; align-items:center;\">\n",
       "<div style=\"width:290px;\">\n",
       "<svg xmlns=\"http://www.w3.org/2000/svg\" viewBox=\"-10 -10 220 220\">\n",
       "<rect x=\"0\" y=\"0\" width=\"160\" height=\"160\" style=\"fill:white;opacity:.5;stroke-width:2;stroke:currentColor;\"/>\n",
       "<rect x=\"20\" y=\"20\" width=\"160\" height=\"160\" style=\"fill:white;opacity:.5;stroke-width:2;stroke:currentColor;\"/>\n",
       "<rect x=\"40\" y=\"40\" width=\"160\" height=\"160\" style=\"fill:white;opacity:.5;stroke-width:2;stroke:currentColor;\"/>\n",
       "<text x=\"120.0\" y=\"120.0\" style=\"font-size: 26pt; font-family: verdana; font-style: bold; fill: black;\" text-anchor=\"middle\" alignment-baseline=\"middle\">\n",
       "4D\n",
       "</text>\n",
       "</svg>\n",
       "</div>\n",
       "<div style=\"flex=grow:1;\">\n",
       "StrCategory(['pass', 'fail'])<br/>\n",
       "Regular(10, 0, 10, name='x', label='x')<br/>\n",
       "Regular(10, 0, 10, name='y', label='y')<br/>\n",
       "Regular(5, 0, 10, name='z', label='z')<br/>\n",
       "<hr style=\"margin-top:.2em; margin-bottom:.2em;\"/>\n",
       "Weight() Σ=WeightedSum(value=20490.8, variance=25822) <em>(WeightedSum(value=24414.4, variance=30780.3) with flow)</em>\n",
       "\n",
       "</div>\n",
       "</div>\n",
       "</html>"
      ],
      "text/plain": [
       "Hist(\n",
       "  StrCategory(['pass', 'fail']),\n",
       "  Regular(10, 0, 10, name='x', label='x'),\n",
       "  Regular(10, 0, 10, name='y', label='y'),\n",
       "  Regular(5, 0, 10, name='z', label='z'),\n",
       "  storage=Weight()) # Sum: WeightedSum(value=20490.8, variance=25822) (WeightedSum(value=24414.4, variance=30780.3) with flow)"
      ]
     },
     "execution_count": 12,
     "metadata": {},
     "output_type": "execute_result"
    }
   ],
   "source": [
    "# rebin z axis by merging every other bin\n",
    "h[..., ::hist.rebin(2)]"
   ]
  },
  {
   "cell_type": "code",
   "execution_count": 13,
   "metadata": {},
   "outputs": [
    {
     "data": {
      "text/html": [
       "<html>\n",
       "<div style=\"display:flex; align-items:center;\">\n",
       "<div style=\"width:290px;\">\n",
       "<svg xmlns=\"http://www.w3.org/2000/svg\" viewBox=\"-10 -10 220 220\">\n",
       "<rect x=\"0\" y=\"0\" width=\"160\" height=\"160\" style=\"fill:white;opacity:.5;stroke-width:2;stroke:currentColor;\"/>\n",
       "<rect x=\"20\" y=\"20\" width=\"160\" height=\"160\" style=\"fill:white;opacity:.5;stroke-width:2;stroke:currentColor;\"/>\n",
       "<rect x=\"40\" y=\"40\" width=\"160\" height=\"160\" style=\"fill:white;opacity:.5;stroke-width:2;stroke:currentColor;\"/>\n",
       "<text x=\"120.0\" y=\"120.0\" style=\"font-size: 26pt; font-family: verdana; font-style: bold; fill: black;\" text-anchor=\"middle\" alignment-baseline=\"middle\">\n",
       "4D\n",
       "</text>\n",
       "</svg>\n",
       "</div>\n",
       "<div style=\"flex=grow:1;\">\n",
       "StrCategory(['pass', 'fail'])<br/>\n",
       "Regular(10, 0, 10, name='x', label='x')<br/>\n",
       "Regular(10, 0, 10, name='y', label='y')<br/>\n",
       "Regular(10, 0, 10, name='z', label='z')<br/>\n",
       "<hr style=\"margin-top:.2em; margin-bottom:.2em;\"/>\n",
       "Weight() Σ=WeightedSum(value=61472.4, variance=77466) <em>(WeightedSum(value=65396, variance=82424.4) with flow)</em>\n",
       "\n",
       "</div>\n",
       "</div>\n",
       "</html>"
      ],
      "text/plain": [
       "Hist(\n",
       "  StrCategory(['pass', 'fail']),\n",
       "  Regular(10, 0, 10, name='x', label='x'),\n",
       "  Regular(10, 0, 10, name='y', label='y'),\n",
       "  Regular(10, 0, 10, name='z', label='z'),\n",
       "  storage=Weight()) # Sum: WeightedSum(value=61472.4, variance=77466) (WeightedSum(value=65396, variance=82424.4) with flow)"
      ]
     },
     "execution_count": 13,
     "metadata": {},
     "output_type": "execute_result"
    }
   ],
   "source": [
    "# scale entire histogram by 3\n",
    "h * 3"
   ]
  },
  {
   "cell_type": "markdown",
   "metadata": {},
   "source": [
    "The `view()` function allows access to the underlying data array that represents the histogram, which allows in-place modifications. For example, we can rescale the `pass` and `fail` categories separately. Though, from the view, we have to index each bin by its integer position."
   ]
  },
  {
   "cell_type": "code",
   "execution_count": 14,
   "metadata": {},
   "outputs": [
    {
     "data": {
      "text/plain": [
       "StrCategory(['pass', 'fail'])"
      ]
     },
     "execution_count": 14,
     "metadata": {},
     "output_type": "execute_result"
    }
   ],
   "source": [
    "h.axes[0]"
   ]
  },
  {
   "cell_type": "code",
   "execution_count": 15,
   "metadata": {},
   "outputs": [
    {
     "data": {
      "text/html": [
       "<html>\n",
       "<div style=\"display:flex; align-items:center;\">\n",
       "<div style=\"width:290px;\">\n",
       "<svg xmlns=\"http://www.w3.org/2000/svg\" viewBox=\"-10 -10 220 220\">\n",
       "<rect x=\"0\" y=\"0\" width=\"160\" height=\"160\" style=\"fill:white;opacity:.5;stroke-width:2;stroke:currentColor;\"/>\n",
       "<rect x=\"20\" y=\"20\" width=\"160\" height=\"160\" style=\"fill:white;opacity:.5;stroke-width:2;stroke:currentColor;\"/>\n",
       "<rect x=\"40\" y=\"40\" width=\"160\" height=\"160\" style=\"fill:white;opacity:.5;stroke-width:2;stroke:currentColor;\"/>\n",
       "<text x=\"120.0\" y=\"120.0\" style=\"font-size: 26pt; font-family: verdana; font-style: bold; fill: black;\" text-anchor=\"middle\" alignment-baseline=\"middle\">\n",
       "4D\n",
       "</text>\n",
       "</svg>\n",
       "</div>\n",
       "<div style=\"flex=grow:1;\">\n",
       "StrCategory(['pass', 'fail'])<br/>\n",
       "Regular(10, 0, 10, name='x', label='x')<br/>\n",
       "Regular(10, 0, 10, name='y', label='y')<br/>\n",
       "Regular(10, 0, 10, name='z', label='z')<br/>\n",
       "<hr style=\"margin-top:.2em; margin-bottom:.2em;\"/>\n",
       "Weight() Σ=WeightedSum(value=53041.4, variance=69035) <em>(WeightedSum(value=63243.1, variance=82341) with flow)</em>\n",
       "\n",
       "</div>\n",
       "</div>\n",
       "</html>"
      ],
      "text/plain": [
       "Hist(\n",
       "  StrCategory(['pass', 'fail']),\n",
       "  Regular(10, 0, 10, name='x', label='x'),\n",
       "  Regular(10, 0, 10, name='y', label='y'),\n",
       "  Regular(10, 0, 10, name='z', label='z'),\n",
       "  storage=Weight()) # Sum: WeightedSum(value=53041.4, variance=69035) (WeightedSum(value=63243.1, variance=82341) with flow)"
      ]
     },
     "execution_count": 15,
     "metadata": {},
     "output_type": "execute_result"
    }
   ],
   "source": [
    "hscaled = h.copy()\n",
    "hscaled.view(flow=True)[0] *= 2.0\n",
    "hscaled.view(flow=True)[1] *= 3.0\n",
    "hscaled"
   ]
  },
  {
   "cell_type": "code",
   "execution_count": 16,
   "metadata": {},
   "outputs": [
    {
     "data": {
      "text/plain": [
       "array([[   0.        ,    0.        ,    0.        ,   16.        ,\n",
       "         226.        , 1311.        , 3482.        , 3371.        ,\n",
       "        1364.        ,  220.        ],\n",
       "       [   0.        ,    0.        ,    0.        ,   19.36600505,\n",
       "         309.14068048, 1886.84325488, 4952.89393611, 4875.9786348 ,\n",
       "        1992.26641612,  363.12069604]])"
      ]
     },
     "execution_count": 16,
     "metadata": {},
     "output_type": "execute_result"
    }
   ],
   "source": [
    "# bin contents and variance are accessed using .value, .variance\n",
    "h[{\"x\": sum, \"y\": sum}].view().value"
   ]
  },
  {
   "cell_type": "code",
   "execution_count": 17,
   "metadata": {},
   "outputs": [],
   "source": [
    "# data can be exported to ROOT via uproot3, but only 1D\n",
    "# uproot4 support for writing is in progress\n",
    "import uproot3\n",
    "import os\n",
    "\n",
    "if os.path.exists(\"output.root\"):\n",
    "    os.remove(\"output.root\")\n",
    "\n",
    "outputfile = uproot3.create(\"output.root\")\n",
    "for cat in h.axes[0]:\n",
    "    # Integrate out x and y components, just write z histo\n",
    "    outputfile[cat] = h[cat, ::sum, ::sum, :].to_numpy()\n",
    "outputfile.close()"
   ]
  },
  {
   "cell_type": "markdown",
   "metadata": {},
   "source": [
    "## Plotting\n",
    "The most integrated plotting utility in the scientific python ecosystem, by far, is [matplotlib](https://matplotlib.org/).  However, as we will see, it is not tailored to HEP needs.\n",
    "\n",
    "Let's start by looking at basic mpl histogramming."
   ]
  },
  {
   "cell_type": "code",
   "execution_count": 18,
   "metadata": {},
   "outputs": [
    {
     "data": {
      "image/png": "[encoded data removed]",
      "text/plain": [
       "<Figure size 432x288 with 1 Axes>"
      ]
     },
     "metadata": {
      "needs_background": "light"
     },
     "output_type": "display_data"
    }
   ],
   "source": [
    "import matplotlib.pyplot as plt\n",
    "vals = argus(chi=.5).rvs(size=1000)\n",
    "\n",
    "# notice the semicolon, which prevents display of the return values\n",
    "plt.hist(vals);"
   ]
  },
  {
   "cell_type": "markdown",
   "metadata": {},
   "source": [
    "Suppose we want to plot pre-binned data, for example from our earlier `np.histogram` usage. Thanks to work by Andrzej Novak, there is now a builtin matplotlib function for plotting pre-binned histograms: `plt.stairs`."
   ]
  },
  {
   "cell_type": "code",
   "execution_count": 19,
   "metadata": {},
   "outputs": [
    {
     "data": {
      "image/png": "[encoded data removed]",
      "text/plain": [
       "<Figure size 432x288 with 1 Axes>"
      ]
     },
     "metadata": {
      "needs_background": "light"
     },
     "output_type": "display_data"
    }
   ],
   "source": [
    "binning = np.linspace(0, 1, 50)\n",
    "\n",
    "h1 = np.histogram(vals, bins=binning)\n",
    "plt.stairs(*h1);"
   ]
  },
  {
   "cell_type": "markdown",
   "metadata": {},
   "source": [
    "To facilitate more complex plotting, there is a package called [mplhep](https://github.com/scikit-hep/mplhep). This package is available standalone, but it is also used internally by the `hist` package to provide several convenience functions to aid in plotting `Hist` objects:\n",
    "\n",
    " * `plot1d`: Create a 1D plot from a 1D or 2D Hist object (see [mplhep.histplot](https://mplhep.readthedocs.io/en/latest/api.html#mplhep.histplot) for all options)\n",
    "\n",
    " * `plot_ratio`: Create a ratio plot, dividing two compatible histograms\n",
    "\n",
    " * `plot2d`: Create a 2D plot from a 2D Hist object\n",
    " \n",
    "Below are some simple examples of using each function on our `histo` object."
   ]
  },
  {
   "cell_type": "code",
   "execution_count": 20,
   "metadata": {},
   "outputs": [
    {
     "data": {
      "image/png": "[encoded data removed]",
      "text/plain": [
       "<Figure size 432x288 with 1 Axes>"
      ]
     },
     "metadata": {
      "needs_background": "light"
     },
     "output_type": "display_data"
    }
   ],
   "source": [
    "# plot z projection per category\n",
    "h.project(\"cat\", \"z\").plot1d()\n",
    "plt.gca().legend();"
   ]
  },
  {
   "cell_type": "code",
   "execution_count": 21,
   "metadata": {},
   "outputs": [
    {
     "data": {
      "image/png": "[encoded data removed]",
      "text/plain": [
       "<Figure size 432x288 with 1 Axes>"
      ]
     },
     "metadata": {
      "needs_background": "light"
     },
     "output_type": "display_data"
    }
   ],
   "source": [
    "# plot z projection per category, stacked\n",
    "h[:, ::sum, ::sum, :].plot1d(stack=True)\n",
    "plt.gca().legend(title=\"stacked\");"
   ]
  },
  {
   "cell_type": "code",
   "execution_count": 22,
   "metadata": {},
   "outputs": [
    {
     "data": {
      "image/png": "[encoded data removed]",
      "text/plain": [
       "<Figure size 432x288 with 2 Axes>"
      ]
     },
     "metadata": {
      "needs_background": "light"
     },
     "output_type": "display_data"
    }
   ],
   "source": [
    "# plot y-z plane projection\n",
    "h.project(\"y\", \"z\").plot2d();"
   ]
  },
  {
   "cell_type": "code",
   "execution_count": 23,
   "metadata": {},
   "outputs": [
    {
     "data": {
      "text/plain": [
       "(([StairsArtists(stairs=<matplotlib.patches.StepPatch object at 0x7fc20eac4d90>, errorbar=<ErrorbarContainer object of 3 artists>, legend_artist=<ErrorbarContainer object of 3 artists>)],\n",
       "  [StairsArtists(stairs=<matplotlib.patches.StepPatch object at 0x7fc20ea5a820>, errorbar=<ErrorbarContainer object of 3 artists>, legend_artist=<ErrorbarContainer object of 3 artists>)]),\n",
       " RatioErrorbarArtists(line=<matplotlib.lines.Line2D object at 0x7fc20ea6ad90>, errorbar=<ErrorbarContainer object of 3 artists>))"
      ]
     },
     "execution_count": 23,
     "metadata": {},
     "output_type": "execute_result"
    },
    {
     "data": {
      "image/png": "[encoded data removed]",
      "text/plain": [
       "<Figure size 432x288 with 2 Axes>"
      ]
     },
     "metadata": {
      "needs_background": "light"
     },
     "output_type": "display_data"
    }
   ],
   "source": [
    "# plot pass vs. fail as a function of z\n",
    "h[\"pass\", ::sum, ::sum, :].plot_ratio(h[\"fail\", ::sum, ::sum, :], rp_num_label=\"pass\", rp_denom_label=\"all\")"
   ]
  },
  {
   "cell_type": "markdown",
   "metadata": {},
   "source": [
    "## Styling\n",
    "\n",
    "We've covered the basics of plotting, now let's go over some styling options. To make things more interesting, we'll load some electron and muon Lorentz vectors from simulated $H\\rightarrow ZZ^{*}$ events into awkward arrays and then plot some kinematic quantities for them, making liberal use of the matplotlib styling options which are exposed through the plotting utilities."
   ]
  },
  {
   "cell_type": "code",
   "execution_count": 24,
   "metadata": {},
   "outputs": [
    {
     "name": "stdout",
     "output_type": "stream",
     "text": [
      "Avg. electrons/event: 0.005919026806060315\n",
      "Avg. muons/event: 0.16856918717279581\n"
     ]
    }
   ],
   "source": [
    "import uproot\n",
    "import awkward as ak\n",
    "\n",
    "fin = uproot.open(\"root://eospublic.cern.ch//eos/root-eos/cms_opendata_2012_nanoaod/ZZTo4mu.root\")\n",
    "tree = fin[\"Events\"]\n",
    "\n",
    "electrons = tree.arrays(filter_name=\"Electron_*\", entry_stop=100_000)\n",
    "muons = tree.arrays(filter_name=\"Muon_*\", entry_stop=100_000)\n",
    "\n",
    "# let's build the lepton arrays back into objects \n",
    "electrons = ak.zip({k.replace('Electron_', ''): electrons[k] for k in electrons.fields})\n",
    "muons = ak.zip({k.replace('Muon_', ''): muons[k] for k in muons.fields})\n",
    "\n",
    "print(\"Avg. electrons/event:\", np.sum(ak.num(electrons)) / tree.num_entries)\n",
    "print(\"Avg. muons/event:\", np.sum(ak.num(muons)) / tree.num_entries)"
   ]
  },
  {
   "cell_type": "code",
   "execution_count": 25,
   "metadata": {},
   "outputs": [
    {
     "data": {
      "text/html": [
       "<html>\n",
       "<div style=\"display:flex; align-items:center;\">\n",
       "<div style=\"width:290px;\">\n",
       "<svg xmlns=\"http://www.w3.org/2000/svg\" viewBox=\"-10 -10 220 220\">\n",
       "<rect x=\"0\" y=\"0\" width=\"160\" height=\"160\" style=\"fill:white;opacity:.5;stroke-width:2;stroke:currentColor;\"/>\n",
       "<rect x=\"20\" y=\"20\" width=\"160\" height=\"160\" style=\"fill:white;opacity:.5;stroke-width:2;stroke:currentColor;\"/>\n",
       "<rect x=\"40\" y=\"40\" width=\"160\" height=\"160\" style=\"fill:white;opacity:.5;stroke-width:2;stroke:currentColor;\"/>\n",
       "<text x=\"120.0\" y=\"120.0\" style=\"font-size: 26pt; font-family: verdana; font-style: bold; fill: black;\" text-anchor=\"middle\" alignment-baseline=\"middle\">\n",
       "3D\n",
       "</text>\n",
       "</svg>\n",
       "</div>\n",
       "<div style=\"flex=grow:1;\">\n",
       "StrCategory(['electron', 'muon'])<br/>\n",
       "Regular(19, 10, 100, name='pt', label='$p_{T}$')<br/>\n",
       "Variable([-2.5, -1.4, 0, 1.4, 2.5])<br/>\n",
       "<hr style=\"margin-top:.2em; margin-bottom:.2em;\"/>\n",
       "Double() Σ=167387.0 <em>(261569.0 with flow)</em>\n",
       "\n",
       "</div>\n",
       "</div>\n",
       "</html>"
      ],
      "text/plain": [
       "Hist(\n",
       "  StrCategory(['electron', 'muon']),\n",
       "  Regular(19, 10, 100, name='pt', label='$p_{T}$'),\n",
       "  Variable([-2.5, -1.4, 0, 1.4, 2.5]),\n",
       "  storage=Double()) # Sum: 167387.0 (261569.0 with flow)"
      ]
     },
     "execution_count": 25,
     "metadata": {},
     "output_type": "execute_result"
    }
   ],
   "source": [
    "lepton_kinematics = (\n",
    "    hist.Hist.new\n",
    "    .StrCat([\"electron\", \"muon\"], name=\"flavor\", label=\"Lepton flavor\")\n",
    "    .Reg(19, 10, 100, name=\"pt\", label=\"$p_{T}$\")\n",
    "    .Var([-2.5, -1.4, 0, 1.4, 2.5], name=\"eta\", label=\"$\\eta$\")\n",
    "    .Double()\n",
    ")\n",
    "\n",
    "# Pass keyword arguments to fill, all arrays must be flat numpy arrays\n",
    "# User is responsible for ensuring all arrays have same jagged structure!\n",
    "lepton_kinematics.fill(\n",
    "    flavor=\"electron\",\n",
    "    pt=ak.flatten(electrons.pt),\n",
    "    eta=ak.flatten(electrons.eta),\n",
    ")\n",
    "lepton_kinematics.fill(\n",
    "    flavor=\"muon\",\n",
    "    pt=ak.flatten(muons.pt),\n",
    "    eta=ak.flatten(muons.eta),\n",
    ")"
   ]
  },
  {
   "cell_type": "code",
   "execution_count": 26,
   "metadata": {},
   "outputs": [
    {
     "data": {
      "text/plain": [
       "<matplotlib.legend.Legend at 0x7fc13865fe20>"
      ]
     },
     "execution_count": 26,
     "metadata": {},
     "output_type": "execute_result"
    },
    {
     "data": {
      "image/png": "[encoded data removed]",
      "text/plain": [
       "<Figure size 432x288 with 1 Axes>"
      ]
     },
     "metadata": {
      "needs_background": "light"
     },
     "output_type": "display_data"
    }
   ],
   "source": [
    "# Now we can start to manipulate this single histogram to plot different views of the data\n",
    "# here we look at lepton pt for all eta\n",
    "lepton_pt = lepton_kinematics[:, :, ::sum]\n",
    "\n",
    "fig, ax = plt.subplots()\n",
    "lepton_pt.plot1d(\n",
    "    ax=ax,\n",
    "    overlay=\"flavor\",\n",
    "    histtype=\"fill\",\n",
    "    stack=True,\n",
    "    alpha=0.5,\n",
    "    edgecolor=(0, 0, 0, 0.3),\n",
    ")\n",
    "# you can edit features of the plot afterwards using matplotlib object-oriented syntax\n",
    "ax.set_ylabel(\"Counts\")\n",
    "# e.g. maybe you really miss '90s graphics...\n",
    "ax.legend(title=\"Flavor\", shadow=True)"
   ]
  },
  {
   "cell_type": "code",
   "execution_count": 27,
   "metadata": {},
   "outputs": [
    {
     "data": {
      "image/png": "[encoded data removed]",
      "text/plain": [
       "<Figure size 432x288 with 1 Axes>"
      ]
     },
     "metadata": {
      "needs_background": "light"
     },
     "output_type": "display_data"
    }
   ],
   "source": [
    "# Clearly the yields are much different, are the shapes similar? We can check by setting `density=True`\n",
    "lepton_pt.plot1d(overlay=\"flavor\", density=True)\n",
    "plt.gca().legend()\n",
    "plt.gca().set_ylabel(\"Density\");"
   ]
  },
  {
   "cell_type": "code",
   "execution_count": 28,
   "metadata": {},
   "outputs": [
    {
     "data": {
      "image/png": "[encoded data removed]",
      "text/plain": [
       "<Figure size 1152x288 with 4 Axes>"
      ]
     },
     "metadata": {
      "needs_background": "light"
     },
     "output_type": "display_data"
    }
   ],
   "source": [
    "# compare different eta regions\n",
    "eta_axis = lepton_kinematics.axes[2]\n",
    "fig, axes = plt.subplots(ncols=len(eta_axis), figsize=(16, 4), sharey=True)\n",
    "for i, ax in enumerate(axes):\n",
    "    lepton_kinematics[:, :, i].plot1d(ax=ax, stack=True, histtype=\"fill\", alpha=0.5, edgecolor=(0, 0, 0, 0.3))\n",
    "    # create a total statistical uncertainty hatch\n",
    "    tot = lepton_kinematics[::sum, :, i].view()\n",
    "    ax.stairs(\n",
    "        edges=lepton_kinematics.axes[1].edges,\n",
    "        baseline=tot - np.sqrt(tot),\n",
    "        values=tot + np.sqrt(tot),\n",
    "        hatch=\"///\",\n",
    "        label=\"Stat. unc.\",\n",
    "        facecolor=\"none\",\n",
    "        linewidth=0,\n",
    "    )\n",
    "    ax.legend(title=f\"$\\eta$ bin {eta_axis[i]}\")\n",
    "    if i == 0:\n",
    "        ax.set_ylabel(\"Counts\")"
   ]
  },
  {
   "cell_type": "code",
   "execution_count": 29,
   "metadata": {},
   "outputs": [
    {
     "data": {
      "text/html": [
       "<html>\n",
       "<div style=\"display:flex; align-items:center;\">\n",
       "<div style=\"width:290px;\">\n",
       "<svg xmlns=\"http://www.w3.org/2000/svg\" viewBox=\"-10 -105 270 120\">\n",
       "<line x1=\"-5\" y1=\"0\" x2=\"255\" y2=\"0\" style=\"fill:none;stroke-width:2;stroke:currentColor\"/>\n",
       "<text text-anchor=\"middle\" x=\"0\" y=\"15\" style=\"fill:currentColor;\">\n",
       "10\n",
       "</text>\n",
       "<text text-anchor=\"middle\" x=\"250\" y=\"15\" style=\"fill:currentColor;\">\n",
       "100\n",
       "</text>\n",
       "<text text-anchor=\"middle\" x=\"125.0\" y=\"15\" style=\"fill:currentColor;\">\n",
       "$p_{T}$\n",
       "</text>\n",
       "<polyline points=\"  0,0   0,-100 13.1579,-100 13.1579,-76.8 26.3158,-76.8 26.3158,-67 39.4737,-67 39.4737,-64.2 52.6316,-64.2 52.6316,-60.1 65.7895,-60.1 65.7895,-56.6 78.9474,-56.6 78.9474,-46.6 92.1053,-46.6 92.1053,-32.9 105.263,-32.9 105.263,-21.4 118.421,-21.4 118.421,-15.1 131.579,-15.1 131.579,-11.2 144.737,-11.2 144.737,-8.46 157.895,-8.46 157.895,-6.52 171.053,-6.52 171.053,-5.57 184.211,-5.57 184.211,-3.83 197.368,-3.83 197.368,-3.35 210.526,-3.35 210.526,-2.59 223.684,-2.59 223.684,-2.23 236.842,-2.23 236.842,-1.77 250,-1.77 250,0\" style=\"fill:none; stroke:currentColor;\"/>\n",
       "</svg>\n",
       "</div>\n",
       "<div style=\"flex=grow:1;\">\n",
       "Regular(19, 10, 100, name='pt', label='$p_{T}$')<br/>\n",
       "<hr style=\"margin-top:.2em; margin-bottom:.2em;\"/>\n",
       "Double() Σ=168060.0\n",
       "\n",
       "</div>\n",
       "</div>\n",
       "</html>"
      ],
      "text/plain": [
       "Hist(Regular(19, 10, 100, name='pt', label='$p_{T}$'), storage=Double()) # Sum: 168060.0"
      ]
     },
     "execution_count": 29,
     "metadata": {},
     "output_type": "execute_result"
    }
   ],
   "source": [
    "# Here we create some pseudodata for the pt histogram so we can make a nice data/mc plot\n",
    "total = lepton_pt[::sum, :]\n",
    "data = total.copy()\n",
    "data.reset()\n",
    "data.fill(\n",
    "    np.repeat(total.axes[0].centers, np.random.poisson(total.view()))\n",
    ")\n",
    "data"
   ]
  },
  {
   "cell_type": "code",
   "execution_count": 30,
   "metadata": {},
   "outputs": [
    {
     "data": {
      "image/png": "[encoded data removed]",
      "text/plain": [
       "<Figure size 432x288 with 2 Axes>"
      ]
     },
     "metadata": {
      "needs_background": "light"
     },
     "output_type": "display_data"
    }
   ],
   "source": [
    "# the builtin ratio plot is useful for quick checks but lacks fine styling\n",
    "data.plot_ratio(total);"
   ]
  },
  {
   "cell_type": "markdown",
   "metadata": {},
   "source": [
    "Some further styling tools are available through the `mplhep` package. In particular, there are several stylesheets that update `plt.rcParams` to conform with experiment style recommendations regarding font face, font sizes, tick mark styles, and other such things. Below is an example application."
   ]
  },
  {
   "cell_type": "code",
   "execution_count": 31,
   "metadata": {},
   "outputs": [
    {
     "data": {
      "text/plain": [
       "<matplotlib.legend.Legend at 0x7fc1384d2a90>"
      ]
     },
     "execution_count": 31,
     "metadata": {},
     "output_type": "execute_result"
    },
    {
     "data": {
      "image/png": "[encoded data removed]",
      "text/plain": [
       "<Figure size 720x720 with 1 Axes>"
      ]
     },
     "metadata": {
      "needs_background": "light"
     },
     "output_type": "display_data"
    }
   ],
   "source": [
    "import mplhep\n",
    "plt.style.use(mplhep.style.CMS)\n",
    "\n",
    "# Compare this to the style of the plot drawn previously\n",
    "fig, ax = plt.subplots()\n",
    "lepton_pt.plot1d(\n",
    "    ax=ax,\n",
    "    overlay=\"flavor\",\n",
    "    histtype=\"fill\",\n",
    "    stack=True,\n",
    "    alpha=0.5,\n",
    "    edgecolor=(0, 0, 0, 0.3),\n",
    ")\n",
    "ax.set_ylabel(\"Counts\")\n",
    "ax.legend(title=\"Flavor\")"
   ]
  },
  {
   "cell_type": "code",
   "execution_count": 32,
   "metadata": {},
   "outputs": [
    {
     "data": {
      "image/png": "[encoded data removed]",
      "text/plain": [
       "<Figure size 720x720 with 2 Axes>"
      ]
     },
     "metadata": {
      "needs_background": "light"
     },
     "output_type": "display_data"
    }
   ],
   "source": [
    "# define a ratio plot figure\n",
    "fig, (ax, rax) = plt.subplots(2, 1, gridspec_kw=dict(height_ratios=[3, 1], hspace=0), sharex=True)\n",
    "\n",
    "# Here is an example of setting up a color cycler to color the various fill patches\n",
    "# We get the colors from this useful utility: http://colorbrewer2.org/#type=qualitative&scheme=Paired&n=6\n",
    "from cycler import cycler\n",
    "colors = ['#a6cee3','#1f78b4','#b2df8a','#33a02c','#fb9a99','#e31a1c']\n",
    "ax.set_prop_cycle(cycler(color=colors))\n",
    "\n",
    "# draw components\n",
    "components = lepton_pt.plot1d(\n",
    "    ax=ax,\n",
    "    stack=True,\n",
    "    histtype=\"fill\",\n",
    "    edgecolor=(0, 0, 0, 0.3),\n",
    ")\n",
    "\n",
    "# create a total statistical uncertainty hatch\n",
    "ax.stairs(\n",
    "    edges=lepton_kinematics.axes[1].edges,\n",
    "    baseline=total - np.sqrt(total),\n",
    "    values=total + np.sqrt(total),\n",
    "    hatch=\"///\",\n",
    "    label=\"Stat. unc.\",\n",
    "    facecolor=\"none\",\n",
    "    linewidth=0,\n",
    "    color=\"black\",\n",
    ")\n",
    "\n",
    "data.plot1d(ax=ax, histtype=\"errorbar\", color=\"k\", label=\"Pseudodata\")\n",
    "\n",
    "ax.set_ylabel(\"Counts\")\n",
    "ax.legend()\n",
    "\n",
    "# now draw a ratio plot\n",
    "from hist.intervals import ratio_uncertainty\n",
    "\n",
    "rax.errorbar(\n",
    "    x=data.axes[0].centers,\n",
    "    y=data.view() / total.view(),\n",
    "    yerr=ratio_uncertainty(data.view(), total.view(), \"poisson\"),\n",
    "    color=\"k\",\n",
    "    linestyle=\"none\",\n",
    "    marker=\"o\",\n",
    "    elinewidth=1,\n",
    ")\n",
    "rax.axhline(y=1.0, linestyle=\"dashed\", color=\"gray\")\n",
    "rax.set_ylabel(\"Ratio\", loc=\"center\")\n",
    "rax.set_ylim(0.75, 1.25)\n",
    "rax.set_xlabel(\"Lepton $p_{T}$ [GeV]\")\n",
    "\n",
    "# add some labels\n",
    "lumi = mplhep.cms.label(ax=ax, lumi=1.0, label=\"Preliminary\")"
   ]
  },
  {
   "cell_type": "code",
   "execution_count": null,
   "metadata": {},
   "outputs": [],
   "source": []
  }
 ],
 "metadata": {
  "kernelspec": {
   "display_name": "Python 3",
   "language": "python",
   "name": "python3"
  },
  "language_info": {
   "codemirror_mode": {
    "name": "ipython",
    "version": 3
   },
   "file_extension": ".py",
   "mimetype": "text/x-python",
   "name": "python",
   "nbconvert_exporter": "python",
   "pygments_lexer": "ipython3",
   "version": "3.8.8"
  }
 },
 "nbformat": 4,
 "nbformat_minor": 4
}
