{
 "cells": [
  {
   "cell_type": "markdown",
   "metadata": {},
   "source": [
    "Coffea Histograms\n",
    "===============\n",
    "\n",
    "In scientific python, histograms seem to be considered as a plot style, on equal footing with, e.g. scatter plots.\n",
    "It may well be that HEP is the only place where users need to plot *pre-binned* data, and thus must use histograms as persistent objects representing reduced data.  In Coffea, the [hist](https://coffeateam.github.io/coffea/modules/coffea.hist.html) subpackage provides a persistable mergable histogram object. This notebook will discuss a few ways that such objects can be manipulated.\n",
    "\n",
    "A histogram object roughly goes through three stages in its life:\n",
    "   - Filling\n",
    "   - Transformation (projection, rebinning, integrating)\n",
    "   - Plotting\n",
    "\n",
    "We'll go over examples of each stage in this notebook, and conclude with some styling examples."
   ]
  },
  {
   "cell_type": "markdown",
   "metadata": {},
   "source": [
    "## Filling\n",
    "Let's start with filling.  We'll use a random distribution [near and dear](https://en.wikipedia.org/wiki/ARGUS_distribution) to of b and c factory physicists, and have the numpy builtin [histogram function](https://numpy.org/doc/stable/reference/generated/numpy.histogram.html) do the work for us:"
   ]
  },
  {
   "cell_type": "code",
   "execution_count": null,
   "metadata": {},
   "outputs": [],
   "source": [
    "import numpy as np\n",
    "from scipy.stats import argus\n",
    "\n",
    "vals = argus(chi=.5).rvs(size=1000)\n",
    "\n",
    "hist = np.histogram(vals)\n",
    "print(hist)"
   ]
  },
  {
   "cell_type": "markdown",
   "metadata": {},
   "source": [
    "So we're done, right?\n",
    "Probably not: we have more than 1000 events, and probably need to use some map-reduce paradigm to fill the histogram because we can't keep all 1 billion `vals` in memory.  So we need two things: a binning, so that all histograms that were independently created can be added, and the ability to add two histograms."
   ]
  },
  {
   "cell_type": "code",
   "execution_count": null,
   "metadata": {},
   "outputs": [],
   "source": [
    "binning = np.linspace(0, 1, 50)\n",
    "\n",
    "def add_histos(h1, h2):\n",
    "    h1sumw, h1binning = h1\n",
    "    h2sumw, h2binning = h2\n",
    "    if h1binning.shape == h2binning.shape and np.all(h1binning==h2binning):\n",
    "        return h1sumw+h2sumw, h1binning\n",
    "    else:\n",
    "        raise ValueError(\"The histograms have inconsistent binning\")\n"
   ]
  },
  {
   "cell_type": "code",
   "execution_count": null,
   "metadata": {},
   "outputs": [],
   "source": [
    "vals2 = argus(chi=.5).rvs(size=1000)\n",
    "\n",
    "hist1 = np.histogram(vals, bins=binning)\n",
    "hist2 = np.histogram(vals2, bins=binning)\n",
    "\n",
    "hist = add_histos(hist1, hist2)\n",
    "print(hist)"
   ]
  },
  {
   "cell_type": "markdown",
   "metadata": {},
   "source": [
    "So now we have everything we need to make our own equivalent to ROOT TH1, from a filling perspective:"
   ]
  },
  {
   "cell_type": "code",
   "execution_count": null,
   "metadata": {},
   "outputs": [],
   "source": [
    "class myTH1:\n",
    "    def __init__(self, binning):\n",
    "        self._binning = binning\n",
    "        self._sumw = np.zeros(binning.size - 1)\n",
    "    \n",
    "    def fill(self, values, weights=None):\n",
    "        sumw, _ = np.histogram(values, bins=self._binning, weights=weights)\n",
    "        self._sumw += sumw\n",
    "    \n",
    "    def __add__(self, other):\n",
    "        if not isinstance(other, myTH1):\n",
    "            raise ValueError\n",
    "        if not np.array_equal(other._binning, self._binning):\n",
    "            raise ValueError(\"The histograms have inconsistent binning\")\n",
    "        out = myTH1(self._binning)\n",
    "        out._sumw = self._sumw + other._sumw\n",
    "        return out"
   ]
  },
  {
   "cell_type": "code",
   "execution_count": null,
   "metadata": {},
   "outputs": [],
   "source": [
    "binning = np.linspace(0, 1, 50)\n",
    "\n",
    "h1 = myTH1(binning)\n",
    "h1.fill(vals)\n",
    "\n",
    "h2 = myTH1(binning)\n",
    "h2.fill(vals2)\n",
    "\n",
    "h = h1 + h2\n",
    "print(h._sumw)"
   ]
  },
  {
   "cell_type": "markdown",
   "metadata": {},
   "source": [
    "Homework: add `sumw2` support.\n",
    "\n",
    "Of course, we might want multidimensional histograms.  There is `np.histogramdd`:"
   ]
  },
  {
   "cell_type": "code",
   "execution_count": null,
   "metadata": {},
   "outputs": [],
   "source": [
    "xyz = np.random.multivariate_normal(mean=[1, 3, 7], cov=np.eye(3), size=10000)\n",
    "\n",
    "xbins = np.linspace(-10, 10, 20)\n",
    "ybins = np.linspace(-10, 10, 20)\n",
    "zbins = np.linspace(-10, 10, 20)\n",
    "hnumpy = np.histogramdd(xyz, bins=(xbins, ybins, zbins))"
   ]
  },
  {
   "cell_type": "markdown",
   "metadata": {},
   "source": [
    "but we are becoming challenged by book-keeping of the variables.\n",
    "The [histogram class](https://coffeateam.github.io/coffea/api/coffea.hist.Hist.html#coffea.hist.Hist) in Coffea is designed to simplify this operation, and the eventual successor (for filling purposes) [boost-histogram](https://github.com/scikit-hep/boost-histogram#usage) has similar syntax.\n",
    "\n",
    "In the constructor you specify each axis, either as a numeric `Bin` axis or a categorical `Cat` axis. Each axis constructor takes arguments similar to ROOT TH1 constructors. One can pass an array to the `Bin` axis for non-uniform binning. Then the fill call is as simple as passing the respective arrays to `histo.fill`."
   ]
  },
  {
   "cell_type": "code",
   "execution_count": null,
   "metadata": {},
   "outputs": [],
   "source": [
    "import coffea.hist as hist\n",
    "\n",
    "histo = hist.Hist(\"Counts\",\n",
    "                  hist.Cat(\"sample\", \"sample name\"),\n",
    "                  hist.Bin(\"x\", \"x value\", 20, -10, 10),\n",
    "                  hist.Bin(\"y\", \"y value\", 20, -10, 10),\n",
    "                  hist.Bin(\"z\", \"z value\", 20, -10, 10),\n",
    "                 )\n",
    "\n",
    "histo.fill(sample=\"sample 1\", x=xyz[:,0], y=xyz[:,1], z=xyz[:,2])\n",
    "\n",
    "# suppose we have another sample of xyz values\n",
    "xyz_sample2 = np.random.multivariate_normal(mean=[1, 3, 7], cov=np.eye(3), size=10000)\n",
    "\n",
    "# additionally, lets assume entries in sample 2 have some non-uniform weight equal to atan(distance from origin)\n",
    "weight = np.arctan(np.sqrt(np.power(xyz_sample2, 2).sum(axis=1)))\n",
    "\n",
    "# weight is a reserved keyword in Hist, and can be added to any fill() call\n",
    "histo.fill(sample=\"sample 2\", x=xyz_sample2[:,0], y=xyz_sample2[:,1], z=xyz_sample2[:,2], weight=weight)\n",
    "\n",
    "print(histo)"
   ]
  },
  {
   "cell_type": "code",
   "execution_count": null,
   "metadata": {},
   "outputs": [],
   "source": [
    "# For more details, look at:\n",
    "# help(hist.Hist)\n",
    "# help(hist.Bin)\n",
    "# help(hist.Cat)"
   ]
  },
  {
   "cell_type": "markdown",
   "metadata": {},
   "source": [
    "## Transformation"
   ]
  },
  {
   "cell_type": "markdown",
   "metadata": {},
   "source": [
    "Here are a few examples of transformations on multidimensional histograms in Coffea.  For each, the docstring (`help(function)` or shift+tab in Jupyter) provides useful info."
   ]
  },
  {
   "cell_type": "code",
   "execution_count": null,
   "metadata": {},
   "outputs": [],
   "source": [
    "# sum all x bins within nominal range (-10, 10)\n",
    "histo.sum(\"x\", overflow='none')"
   ]
  },
  {
   "cell_type": "markdown",
   "metadata": {},
   "source": [
    "There is some analog to fancy array slicing for histogram objects, which is supported (with reasonable consistency) in Coffea, where the slice boundaries are physical axis values, rather than bin indices.  All values outside the slice range are merged into overflow bins.\n",
    "\n",
    "For a lengthy discussion on possible slicing syntax for the future, see [boost-histogram#35](https://github.com/scikit-hep/boost-histogram/issues/35)."
   ]
  },
  {
   "cell_type": "code",
   "execution_count": null,
   "metadata": {},
   "outputs": [],
   "source": [
    "sliced = histo[:,0:,4:,0:]\n",
    "display(sliced)\n",
    "display(sliced.identifiers(\"y\", overflow='all'))"
   ]
  },
  {
   "cell_type": "code",
   "execution_count": null,
   "metadata": {},
   "outputs": [],
   "source": [
    "# integrate y bins from -2 to +10\n",
    "histo.integrate(\"y\", slice(0, 10))"
   ]
  },
  {
   "cell_type": "code",
   "execution_count": null,
   "metadata": {},
   "outputs": [],
   "source": [
    "# rebin z axis by providing a new axis definition\n",
    "histo.rebin(\"z\", hist.Bin(\"znew\", \"rebinned z value\", [-10, -6, 6, 10]))"
   ]
  },
  {
   "cell_type": "code",
   "execution_count": null,
   "metadata": {},
   "outputs": [],
   "source": [
    "# merge categorical axes\n",
    "mapping = {\n",
    "    'all samples': ['sample 1', 'sample 2'],\n",
    "    'just sample 1': ['sample 1'],\n",
    "}\n",
    "histo.group(\"sample\", hist.Cat(\"cat\", \"new category\"), mapping)"
   ]
  },
  {
   "cell_type": "code",
   "execution_count": null,
   "metadata": {},
   "outputs": [],
   "source": [
    "# scale entire histogram by 3 (in-place)\n",
    "histo.scale(3.)"
   ]
  },
  {
   "cell_type": "code",
   "execution_count": null,
   "metadata": {},
   "outputs": [],
   "source": [
    "# scale samples by different values (also in-place)\n",
    "scales = {\n",
    "    'sample 1': 1.2,\n",
    "    'sample 2': 0.2,\n",
    "}\n",
    "histo.scale(scales, axis='sample')"
   ]
  },
  {
   "cell_type": "code",
   "execution_count": null,
   "metadata": {},
   "outputs": [],
   "source": [
    "# useful debugging tool: print bins, aka 'identifiers'\n",
    "display(histo.identifiers('sample'))\n",
    "display(histo.identifiers('x'))"
   ]
  },
  {
   "cell_type": "code",
   "execution_count": null,
   "metadata": {},
   "outputs": [],
   "source": [
    "# bin contents are accessed using values\n",
    "histo.sum('x', 'y').values(sumw2=False)"
   ]
  },
  {
   "cell_type": "code",
   "execution_count": null,
   "metadata": {},
   "outputs": [],
   "source": [
    "# data can be exported to ROOT via uproot, but only 1D\n",
    "import uproot\n",
    "import os\n",
    "\n",
    "if os.path.exists(\"output.root\"):\n",
    "    os.remove(\"output.root\")\n",
    "\n",
    "outputfile = uproot.create(\"output.root\")\n",
    "h = histo.sum('x', 'y')\n",
    "for sample in h.identifiers('sample'):\n",
    "    outputfile[sample.name] = hist.export1d(h.integrate('sample', sample))\n",
    "outputfile.close()"
   ]
  },
  {
   "cell_type": "markdown",
   "metadata": {},
   "source": [
    "## Plotting\n",
    "The most integrated plotting utility in the scientific python ecosystem, by far, is [matplotlib](https://matplotlib.org/).  However, as we will see, it is not tailored to HEP needs.\n",
    "\n",
    "Let's start by looking at basic mpl histogramming."
   ]
  },
  {
   "cell_type": "code",
   "execution_count": null,
   "metadata": {},
   "outputs": [],
   "source": [
    "%matplotlib inline\n",
    "import matplotlib.pyplot as plt"
   ]
  },
  {
   "cell_type": "code",
   "execution_count": null,
   "metadata": {},
   "outputs": [],
   "source": [
    "vals = argus(chi=.5).rvs(size=1000)\n",
    "\n",
    "# notice the semicolon, which prevents display of the return values\n",
    "plt.hist(vals);"
   ]
  },
  {
   "cell_type": "markdown",
   "metadata": {},
   "source": [
    "Suppose we want to plot pre-binned data, for example from our earlier `np.histogram` usage.  Here we start running into the edge of typical mpl usage.  As mentioned before, apparently HEP is the only regular user of pre-binned histograms."
   ]
  },
  {
   "cell_type": "code",
   "execution_count": null,
   "metadata": {},
   "outputs": [],
   "source": [
    "binning = np.linspace(0, 1, 50)\n",
    "\n",
    "h1vals, h1bins = np.histogram(vals, bins=binning)\n",
    "plt.step(x=h1bins[:-1], y=h1vals, where='post');"
   ]
  },
  {
   "cell_type": "markdown",
   "metadata": {},
   "source": [
    "To facilitate these operations, there is a package called [mplhep](https://github.com/scikit-hep/mplhep). This package is available standlaone, but it is also used internally by the `coffea.hist` subpackage to provide several convenience functions to aid in plotting `Hist` objects:\n",
    "\n",
    " * [plot1d](https://coffeateam.github.io/coffea/api/coffea.hist.plot1d.html#coffea.hist.plot1d): Create a 1D plot from a 1D or 2D Hist object\n",
    "\n",
    " * [plotratio](https://coffeateam.github.io/coffea/api/coffea.hist.plotratio.html#coffea.hist.plotratio): Create a ratio plot, dividing two compatible histograms\n",
    "\n",
    " * [plot2d](https://coffeateam.github.io/coffea/api/coffea.hist.plot2d.html#coffea.hist.plot2d): Create a 2D plot from a 2D Hist object\n",
    "\n",
    " * [plotgrid](https://coffeateam.github.io/coffea/api/coffea.hist.plotgrid.html#coffea.hist.plotgrid): Create a grid of plots, enumerating identifiers on up to 3 axes\n",
    " \n",
    "Below are some simple examples of using each function on our `histo` object."
   ]
  },
  {
   "cell_type": "code",
   "execution_count": null,
   "metadata": {},
   "outputs": [],
   "source": [
    "hist.plot1d(histo.sum(\"x\", \"y\"), overlay='sample');"
   ]
  },
  {
   "cell_type": "code",
   "execution_count": null,
   "metadata": {},
   "outputs": [],
   "source": [
    "hist.plot1d(histo.sum(\"x\", \"y\"), overlay='sample', stack=True);"
   ]
  },
  {
   "cell_type": "code",
   "execution_count": null,
   "metadata": {},
   "outputs": [],
   "source": [
    "hist.plot2d(histo.sum('x', 'sample'), xaxis='y');"
   ]
  },
  {
   "cell_type": "code",
   "execution_count": null,
   "metadata": {},
   "outputs": [],
   "source": [
    "# make coarse binned hist and look at several distributions\n",
    "hnew = (\n",
    "    histo\n",
    "    .rebin(\"y\", hist.Bin(\"ynew\", \"rebinned y value\", [0, 3, 5]))\n",
    "    .rebin(\"z\", hist.Bin(\"znew\", \"rebinned z value\", [5, 8, 10]))\n",
    ")\n",
    "\n",
    "hist.plotgrid(hnew, row='ynew', col='znew', overlay='sample');"
   ]
  },
  {
   "cell_type": "code",
   "execution_count": null,
   "metadata": {
    "scrolled": false
   },
   "outputs": [],
   "source": [
    "numerator = histo.integrate('sample', 'sample 1').sum('y', 'z')\n",
    "denominator = histo.sum('sample', 'y', 'z')\n",
    "\n",
    "numerator.label = r'$\\epsilon$'\n",
    "ax = hist.plotratio(\n",
    "    num=numerator,\n",
    "    denom=denominator,\n",
    "    error_opts={'color': 'k', 'marker': '.'},\n",
    "    unc='clopper-pearson'\n",
    ")\n",
    "ax.set_ylim(0.6, 1.)\n",
    "ax.set_xlim(-10, 10)"
   ]
  },
  {
   "cell_type": "markdown",
   "metadata": {},
   "source": [
    "## Styling\n",
    "\n",
    "We've covered the basics of plotting, now let's go over some styling options. To make things more interesting, we'll load some electron and muon Lorentz vectors from simulated $H\\rightarrow ZZ^{*}$ events into awkward arrays and then plot some kinematic quantities for them, making liberal use of the matplotlib styling options which are exposed through the coffea plotting utilities."
   ]
  },
  {
   "cell_type": "code",
   "execution_count": null,
   "metadata": {},
   "outputs": [],
   "source": [
    "!curl -O http://scikit-hep.org/uproot/examples/HZZ.root"
   ]
  },
  {
   "cell_type": "code",
   "execution_count": null,
   "metadata": {},
   "outputs": [],
   "source": [
    "import uproot\n",
    "import awkward\n",
    "from uproot_methods import TLorentzVectorArray\n",
    "\n",
    "fin = uproot.open(\"HZZ.root\")\n",
    "tree = fin[\"events\"]\n",
    "\n",
    "# let's build the lepton arrays back into objects\n",
    "# in the future, some of this verbosity can be reduced\n",
    "arrays = {k.replace('Electron_', ''): v for k,v in tree.arrays(\"Electron_*\", namedecode='ascii').items()}\n",
    "p4 = TLorentzVectorArray.from_cartesian(\n",
    "    arrays.pop('Px'),\n",
    "    arrays.pop('Py'),\n",
    "    arrays.pop('Pz'),\n",
    "    arrays.pop('E'),\n",
    ")\n",
    "electrons = awkward.JaggedArray.zip(p4=p4, **arrays)\n",
    "\n",
    "arrays = {k.replace('Muon_', ''): v for k,v in tree.arrays(\"Muon_*\", namedecode='ascii').items()}\n",
    "p4 = TLorentzVectorArray.from_cartesian(\n",
    "    arrays.pop('Px'),\n",
    "    arrays.pop('Py'),\n",
    "    arrays.pop('Pz'),\n",
    "    arrays.pop('E'),\n",
    ")\n",
    "muons = awkward.JaggedArray.zip(p4=p4, **arrays)\n",
    "\n",
    "print(\"Avg. electrons/event:\", electrons.counts.sum()/tree.numentries)\n",
    "print(\"Avg. muons/event:\", muons.counts.sum()/tree.numentries)"
   ]
  },
  {
   "cell_type": "code",
   "execution_count": null,
   "metadata": {},
   "outputs": [],
   "source": [
    "lepton_kinematics = hist.Hist(\n",
    "    \"Events\",\n",
    "    hist.Cat(\"flavor\", \"Lepton flavor\"),\n",
    "    hist.Bin(\"pt\", \"$p_{T}$\", 19, 10, 100),\n",
    "    hist.Bin(\"eta\", \"$\\eta$\", [-2.5, -1.4, 0, 1.4, 2.5]),\n",
    ")\n",
    "\n",
    "# Pass keyword arguments to fill, all arrays must be flat numpy arrays\n",
    "# User is responsible for ensuring all arrays have same jagged structure!\n",
    "lepton_kinematics.fill(\n",
    "    flavor=\"electron\",\n",
    "    pt=electrons['p4'].pt.flatten(),\n",
    "    eta=electrons['p4'].eta.flatten()\n",
    ")\n",
    "lepton_kinematics.fill(\n",
    "    flavor=\"muon\",\n",
    "    pt=muons['p4'].pt.flatten(),\n",
    "    eta=muons['p4'].eta.flatten()\n",
    ")"
   ]
  },
  {
   "cell_type": "code",
   "execution_count": null,
   "metadata": {},
   "outputs": [],
   "source": [
    "# Now we can start to manipulate this single histogram to plot different views of the data\n",
    "# here we look at lepton pt for all eta\n",
    "lepton_pt = lepton_kinematics.integrate(\"eta\")\n",
    "\n",
    "ax = hist.plot1d(\n",
    "    lepton_pt,\n",
    "    overlay=\"flavor\",\n",
    "    stack=True,\n",
    "    fill_opts={'alpha': .5, 'edgecolor': (0,0,0,0.3)}\n",
    ")\n",
    "# all plot calls return the matplotlib axes object, from which\n",
    "# you can edit features afterwards using matplotlib object-oriented syntax\n",
    "# e.g. maybe you really miss '90s graphics...\n",
    "ax.get_legend().shadow = True"
   ]
  },
  {
   "cell_type": "code",
   "execution_count": null,
   "metadata": {},
   "outputs": [],
   "source": [
    "# Clearly the yields are much different, are the shapes similar? We can check by setting `density=True`\n",
    "lepton_pt.label = \"Density\"\n",
    "ax = hist.plot1d(lepton_pt, overlay=\"flavor\", density=True)"
   ]
  },
  {
   "cell_type": "code",
   "execution_count": null,
   "metadata": {},
   "outputs": [],
   "source": [
    "# Let's stack them, after defining some nice styling\n",
    "stack_fill_opts = {\n",
    "    'alpha': 0.8,\n",
    "    'edgecolor':(0,0,0,.5)\n",
    "}\n",
    "stack_error_opts = {\n",
    "    'label':'Stat. Unc.',\n",
    "    'hatch':'///',\n",
    "    'facecolor':'none',\n",
    "    'edgecolor':(0,0,0,.5),\n",
    "    'linewidth': 0\n",
    "}\n",
    "# maybe we want to compare different eta regions\n",
    "# plotgrid accepts row and column axes, and creates a grid of 1d plots as appropriate\n",
    "ax = hist.plotgrid(\n",
    "    lepton_kinematics,\n",
    "    row=\"eta\",\n",
    "    overlay=\"flavor\",\n",
    "    stack=True,\n",
    "    fill_opts=stack_fill_opts,\n",
    "    error_opts=stack_error_opts,\n",
    ")"
   ]
  },
  {
   "cell_type": "code",
   "execution_count": null,
   "metadata": {},
   "outputs": [],
   "source": [
    "# Here we create some pseudodata for the pt histogram so we can make a nice data/mc plot\n",
    "pthist = lepton_kinematics.sum('eta')\n",
    "bin_values = pthist.axis('pt').centers()\n",
    "poisson_means = pthist.sum('flavor').values()[()]\n",
    "values = np.repeat(bin_values, np.random.poisson(poisson_means))\n",
    "pthist.fill(flavor='pseudodata', pt=values)\n",
    "\n",
    "# Set nicer labels, by accessing the string bins' label property\n",
    "pthist.axis('flavor').index('electron').label = 'e Flavor'\n",
    "pthist.axis('flavor').index('muon').label = r'$\\mu$ Flavor'\n",
    "pthist.axis('flavor').index('pseudodata').label = r'Pseudodata from e/$\\mu$'\n",
    "\n",
    "# using regular expressions on flavor name to select just the data\n",
    "# another method would be to fill a separate data histogram\n",
    "import re\n",
    "notdata = re.compile('(?!pseudodata)')"
   ]
  },
  {
   "cell_type": "code",
   "execution_count": null,
   "metadata": {},
   "outputs": [],
   "source": [
    "# make a nice ratio plot, adjusting some font sizes\n",
    "plt.rcParams.update({\n",
    "    'font.size': 14,\n",
    "    'axes.titlesize': 18,\n",
    "    'axes.labelsize': 18,\n",
    "    'xtick.labelsize': 12,\n",
    "    'ytick.labelsize': 12\n",
    "})\n",
    "fig, (ax, rax) = plt.subplots(\n",
    "    nrows=2,\n",
    "    ncols=1,\n",
    "    figsize=(7,7),\n",
    "    gridspec_kw={\"height_ratios\": (3, 1)},\n",
    "    sharex=True\n",
    ")\n",
    "fig.subplots_adjust(hspace=.07)\n",
    "\n",
    "# Here is an example of setting up a color cycler to color the various fill patches\n",
    "# We get the colors from this useful utility: http://colorbrewer2.org/#type=qualitative&scheme=Paired&n=6\n",
    "from cycler import cycler\n",
    "colors = ['#a6cee3','#1f78b4','#b2df8a','#33a02c','#fb9a99','#e31a1c']\n",
    "ax.set_prop_cycle(cycler(color=colors))\n",
    "\n",
    "fill_opts = {\n",
    "    'edgecolor': (0,0,0,0.3),\n",
    "    'alpha': 0.8\n",
    "}\n",
    "error_opts = {\n",
    "    'label': 'Stat. Unc.',\n",
    "    'hatch': '///',\n",
    "    'facecolor': 'none',\n",
    "    'edgecolor': (0,0,0,.5),\n",
    "    'linewidth': 0\n",
    "}\n",
    "data_err_opts = {\n",
    "    'linestyle': 'none',\n",
    "    'marker': '.',\n",
    "    'markersize': 10.,\n",
    "    'color': 'k',\n",
    "    'elinewidth': 1,\n",
    "}\n",
    "\n",
    "# plot the MC first\n",
    "hist.plot1d(\n",
    "    pthist[notdata], \n",
    "    overlay=\"flavor\", \n",
    "    ax=ax,\n",
    "    clear=False,\n",
    "    stack=True, \n",
    "    line_opts=None,\n",
    "    fill_opts=fill_opts,\n",
    "    error_opts=error_opts\n",
    ")\n",
    "# now the pseudodata, setting clear=False to avoid overwriting the previous plot\n",
    "hist.plot1d(\n",
    "    pthist['pseudodata'],\n",
    "    overlay=\"flavor\",\n",
    "    ax=ax,\n",
    "    clear=False,\n",
    "    error_opts=data_err_opts\n",
    ")\n",
    "\n",
    "ax.autoscale(axis='x', tight=True)\n",
    "ax.set_ylim(0, None)\n",
    "ax.set_xlabel(None)\n",
    "leg = ax.legend()\n",
    "\n",
    "# now we build the ratio plot\n",
    "hist.plotratio(\n",
    "    num=pthist['pseudodata'].sum(\"flavor\"),\n",
    "    denom=pthist[notdata].sum(\"flavor\"), \n",
    "    ax=rax,\n",
    "    error_opts=data_err_opts, \n",
    "    denom_fill_opts={},\n",
    "    guide_opts={},\n",
    "    unc='num'\n",
    ")\n",
    "rax.set_ylabel('Ratio')\n",
    "rax.set_ylim(0,2)\n",
    "\n",
    "# add some labels\n",
    "coffee = plt.text(0., 1., u\"☕\",\n",
    "                  fontsize=28, \n",
    "                  horizontalalignment='left', \n",
    "                  verticalalignment='bottom', \n",
    "                  transform=ax.transAxes\n",
    "                 )\n",
    "lumi = plt.text(1., 1., r\"1 fb$^{-1}$ (?? TeV)\",\n",
    "                fontsize=16, \n",
    "                horizontalalignment='right', \n",
    "                verticalalignment='bottom', \n",
    "                transform=ax.transAxes\n",
    "               )"
   ]
  },
  {
   "cell_type": "markdown",
   "metadata": {},
   "source": [
    "Some further styling tools are available through the `mplhep` package. In particular, there are several stylesheets that update `plt.rcParams` to conform with experiment style recommendations regarding font face, font sizes, tick mark styles, and other such things. Below is an example application."
   ]
  },
  {
   "cell_type": "code",
   "execution_count": null,
   "metadata": {},
   "outputs": [],
   "source": [
    "import mplhep\n",
    "plt.style.use(mplhep.style.ROOT)\n",
    "\n",
    "# Compare this to the style of the plot drawn previously\n",
    "ax = hist.plot1d(lepton_pt, overlay=\"flavor\", density=True)"
   ]
  }
 ],
 "metadata": {
  "kernelspec": {
   "display_name": "coffea-hats",
   "language": "python",
   "name": "coffea-hats"
  },
  "language_info": {
   "codemirror_mode": {
    "name": "ipython",
    "version": 3
   },
   "file_extension": ".py",
   "mimetype": "text/x-python",
   "name": "python",
   "nbconvert_exporter": "python",
   "pygments_lexer": "ipython3",
   "version": "3.6.7"
  }
 },
 "nbformat": 4,
 "nbformat_minor": 2
}
