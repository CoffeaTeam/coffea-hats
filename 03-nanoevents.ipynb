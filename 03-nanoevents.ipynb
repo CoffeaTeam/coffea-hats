{
 "cells": [
  {
   "cell_type": "markdown",
   "metadata": {},
   "source": [
    "# NanoEvents tutorial\n",
    "\n",
    "This is a rendered copy of [nanoevents.ipynb](https://github.com/CoffeaTeam/coffea/blob/master/binder/nanoevents.ipynb). You can optionally run it interactively on [binder at this link](https://mybinder.org/v2/gh/coffeateam/coffea/master?filepath=binder%2Fnanoevents.ipynb)\n",
    "\n",
    "[NanoEvents](https://coffeateam.github.io/coffea/api/coffea.nanoaod.NanoEvents.html#coffea.nanoaod.NanoEvents) is a Coffea utility to wrap the CMS NanoAOD (or similar) flat nTuple structure into a single awkward array with appropriate object methods (such as Lorentz vector methods), cross references, and pre-built nested objects, all lazily accessed from the source ROOT TTree via uproot. NanoEvents is in a **experimental** stage at this point. Certain functionality may be fragile, and some functionality will not be available until it is ported to awkward-array version 1.\n",
    "\n",
    "It can be instantiated as follows:"
   ]
  },
  {
   "cell_type": "code",
   "execution_count": 1,
   "metadata": {},
   "outputs": [],
   "source": [
    "from coffea.nanoaod import NanoEvents\n",
    "\n",
    "fname = \"https://github.com/CoffeaTeam/coffea/raw/master/tests/samples/nano_dy.root\"\n",
    "events = NanoEvents.from_file(fname)"
   ]
  },
  {
   "cell_type": "markdown",
   "metadata": {},
   "source": [
    "Consider looking at the class methods [from_file](https://coffeateam.github.io/coffea/api/coffea.nanoaod.NanoEvents.html#coffea.nanoaod.NanoEvents.from_file) and [from_arrays](https://coffeateam.github.io/coffea/api/coffea.nanoaod.NanoEvents.html#coffea.nanoaod.NanoEvents.from_arrays) to see the optional arguments.\n",
    "\n",
    "The `events` object is an awkward array, which at its top level is a record array with one record for each \"collection\", where a collection is a grouping of column (TBranch) names, categorized as follows:\n",
    "\n",
    " * one branch exists named `name` and no branches start with `name_`, interpreted as a single flat array;\n",
    " * one branch exists named `name`, one named `n{name}`, and no branches start with `name_`, interpreted as a single jagged array;\n",
    " * no branch exists named `n{name}` and many branches start with `name_*`, interpreted as a flat table; or\n",
    " * one branch exists named `n{name}` and many branches start with `name_*`, interpreted as a jagged table.\n",
    "\n",
    "Any ROOT TTree that follows such a naming convention should be readable as a NanoEvents array.\n",
    "\n",
    "For example, in the file we opened, the branches:\n",
    "```\n",
    "Generator_binvar\n",
    "Generator_scalePDF\n",
    "Generator_weight\n",
    "Generator_x1\n",
    "Generator_x2\n",
    "Generator_xpdf1\n",
    "Generator_xpdf2\n",
    "Generator_id1\n",
    "Generator_id2\n",
    "```\n",
    "are grouped into one sub-record named `Generator` which can be accessed using either getitem or getattr syntax, i.e. `events[\"Generator\"]` or `events.Generator`. e.g."
   ]
  },
  {
   "cell_type": "code",
   "execution_count": 2,
   "metadata": {},
   "outputs": [
    {
     "data": {
      "text/plain": [
       "<VirtualArray [1 -1 -1 ... -1 2 1] at 0x0001229cfd90>"
      ]
     },
     "execution_count": 2,
     "metadata": {},
     "output_type": "execute_result"
    }
   ],
   "source": [
    "events.Generator.id1"
   ]
  },
  {
   "cell_type": "code",
   "execution_count": 3,
   "metadata": {},
   "outputs": [
    {
     "data": {
      "text/plain": [
       "['binvar', 'scalePDF', 'weight', 'x1', 'x2', 'xpdf1', 'xpdf2', 'id1', 'id2']"
      ]
     },
     "execution_count": 3,
     "metadata": {},
     "output_type": "execute_result"
    }
   ],
   "source": [
    "# all column names can be listed with:\n",
    "events.Generator.columns"
   ]
  },
  {
   "cell_type": "code",
   "execution_count": 4,
   "metadata": {},
   "outputs": [],
   "source": [
    "# In CMS NanoAOD, each TBranch has a help string, which is carried into the NanoEvents\n",
    "# e.g. executing the following cell should produce a help pop-up \"id of first parton\"\n",
    "events.Generator.id1?"
   ]
  },
  {
   "cell_type": "markdown",
   "metadata": {},
   "source": [
    "Based on a collection's name, some collections acquire additional _methods_, which are extra features exposed by the code in the mixin classes of the [nanoaod.methods](https://coffeateam.github.io/coffea/modules/coffea.nanoaod.methods.html) module. For example, although `events.GenJet` has the columns:"
   ]
  },
  {
   "cell_type": "code",
   "execution_count": 5,
   "metadata": {},
   "outputs": [
    {
     "data": {
      "text/plain": [
       "['eta', 'mass', 'phi', 'pt', 'partonFlavour', 'hadronFlavour']"
      ]
     },
     "execution_count": 5,
     "metadata": {},
     "output_type": "execute_result"
    }
   ],
   "source": [
    "events.GenJet.columns"
   ]
  },
  {
   "cell_type": "markdown",
   "metadata": {},
   "source": [
    "we can access additional attributes associated to each generated jet by virtue of the fact that they can be interpreted as Lorentz vectors:"
   ]
  },
  {
   "cell_type": "code",
   "execution_count": 6,
   "metadata": {},
   "outputs": [
    {
     "data": {
      "text/plain": [
       "<JaggedArray [[216.66086 669.76355 258.178] [34.46663 98.27996 1158.8408 38.086895 20.431288 29.717283] [305.5387 62.83623 74.116714 769.1337 11.190336] ... [553.1756 282.61493] [771.05457 451.83902 16.021221] [76.890686]] at 0x000122a3c890>"
      ]
     },
     "execution_count": 6,
     "metadata": {},
     "output_type": "execute_result"
    }
   ],
   "source": [
    "events.GenJet.energy"
   ]
  },
  {
   "cell_type": "code",
   "execution_count": 7,
   "metadata": {},
   "outputs": [
    {
     "data": {
      "text/plain": [
       "<JaggedArray [[] [3.1270556] [3.4542406 2.1806993] ... [0.085795395] [] []] at 0x00010694fc90>"
      ]
     },
     "execution_count": 7,
     "metadata": {},
     "output_type": "execute_result"
    }
   ],
   "source": [
    "# or call LorentzVector methods\n",
    "# e.g. to find distance between leading jet and all electrons in each event\n",
    "events.Jet[:, 0].delta_r(events.Electron)"
   ]
  },
  {
   "cell_type": "markdown",
   "metadata": {},
   "source": [
    "The assignment of methods classes to collections is governed by [collection_methods](https://github.com/CoffeaTeam/coffea/blob/bfb1d3298fde9a6c2688c39b709c3b25076d437c/coffea/nanoaod/methods/__init__.py#L7) and can be overriden with new mappings in the NanoEvents constructor, if desired.\n",
    "Additional methods provide convenience functions for interpreting some branches, e.g."
   ]
  },
  {
   "cell_type": "code",
   "execution_count": 8,
   "metadata": {},
   "outputs": [
    {
     "name": "stdout",
     "output_type": "stream",
     "text": [
      "[[True True True True True] [True True True ... True True False] [True True True True True] ... [True] [True True False True True True] [True True]]\n"
     ]
    }
   ],
   "source": [
    "# unpacked Jet_jetId flags\n",
    "print(events.Jet.isTight)"
   ]
  },
  {
   "cell_type": "code",
   "execution_count": 9,
   "metadata": {},
   "outputs": [
    {
     "data": {
      "text/plain": [
       "<JaggedArray [[True True False ... False False False] [True True False ... True True False] [False True False ... False False False] ... [True True False True True True] [True True False ... True True True] [True True False ... False False False]] at 0x0001229ef110>"
      ]
     },
     "execution_count": 9,
     "metadata": {},
     "output_type": "execute_result"
    }
   ],
   "source": [
    "# unpacked GenPart_statusFlags\n",
    "events.GenPart.hasFlags(['isPrompt', 'isLastCopy'])"
   ]
  },
  {
   "cell_type": "markdown",
   "metadata": {},
   "source": [
    "CMS NanoAOD also contains pre-computed cross-references for some types of collections. For example, there is a TBranch `Electron_genPartIdx` which indexes the `GenPart` collection per event to give the matched generated particle, and `-1` if no match is found. NanoEvents transforms these indices into an awkward _indexed array_ pointing to the collection, so that one can directly access the matched particle using getattr syntax:"
   ]
  },
  {
   "cell_type": "code",
   "execution_count": 10,
   "metadata": {},
   "outputs": [
    {
     "data": {
      "text/plain": [
       "<JaggedArray [[] [-11] [-11 11] ... [None] [] []] at 0x000106865bd0>"
      ]
     },
     "execution_count": 10,
     "metadata": {},
     "output_type": "execute_result"
    }
   ],
   "source": [
    "events.Electron.matched_gen.pdgId"
   ]
  },
  {
   "cell_type": "code",
   "execution_count": 11,
   "metadata": {},
   "outputs": [
    {
     "data": {
      "text/plain": [
       "<JaggedArray [[] [] [] ... [] [] []] at 0x0001229c1a10>"
      ]
     },
     "execution_count": 11,
     "metadata": {},
     "output_type": "execute_result"
    }
   ],
   "source": [
    "events.Muon.matched_jet.pt"
   ]
  },
  {
   "cell_type": "markdown",
   "metadata": {},
   "source": [
    "For generated particles, the parent index is similarly mapped:"
   ]
  },
  {
   "cell_type": "code",
   "execution_count": 12,
   "metadata": {},
   "outputs": [
    {
     "data": {
      "text/plain": [
       "<JaggedArray [[None None 1 ... -15 111 111] [None None -1 ... None None 433] [None None -1 ... -421 111 111] ... [None None -1 23 23 23] [None None 2 ... -11 -11 11] [None None 1 ... 111 111 111]] at 0x0001215720d0>"
      ]
     },
     "execution_count": 12,
     "metadata": {},
     "output_type": "execute_result"
    }
   ],
   "source": [
    "events.GenPart.parent.pdgId"
   ]
  },
  {
   "cell_type": "markdown",
   "metadata": {},
   "source": [
    "In addition, using the parent index, a helper method computes the inverse mapping, namely, `children`. As such, one can find particle siblings with:"
   ]
  },
  {
   "cell_type": "code",
   "execution_count": 13,
   "metadata": {},
   "outputs": [
    {
     "data": {
      "text/plain": [
       "<JaggedArray [[None None [23 21] ... [-16 111 211 211 -211] [22 22] [22 22]] [None None [23] ... None None [431]] [None None [23 -1] ... [13 -14] [22] [22]] ... [None None [23] [23] [-13 13] [-13 13]] [None None [23] ... [-11 22] [-11 22] [11]] [None None [23 21] ... [22 22] [22 22] [22 22]]] at 0x000123c8f910>"
      ]
     },
     "execution_count": 13,
     "metadata": {},
     "output_type": "execute_result"
    }
   ],
   "source": [
    "events.GenPart.parent.children.pdgId\n",
    "# notice this is a doubly-jagged array"
   ]
  },
  {
   "cell_type": "markdown",
   "metadata": {},
   "source": [
    "Since often one wants to shortcut repeated particles in a decay sequence, a helper method `distinctParent` is also available. Here we use it to find the parent particle ID for all prompt electrons:"
   ]
  },
  {
   "cell_type": "code",
   "execution_count": 14,
   "metadata": {},
   "outputs": [
    {
     "data": {
      "text/plain": [
       "<JaggedArray [[] [23 23] [23 23] ... [] [23 23] []] at 0x00012408cf50>"
      ]
     },
     "execution_count": 14,
     "metadata": {},
     "output_type": "execute_result"
    }
   ],
   "source": [
    "events.GenPart[\n",
    "    (abs(events.GenPart.pdgId) == 11)\n",
    "    & events.GenPart.hasFlags(['isPrompt', 'isLastCopy'])\n",
    "].distinctParent.pdgId"
   ]
  },
  {
   "cell_type": "markdown",
   "metadata": {},
   "source": [
    "Events can be filtered like any other awkward array using boolean fancy-indexing"
   ]
  },
  {
   "cell_type": "code",
   "execution_count": 15,
   "metadata": {},
   "outputs": [
    {
     "data": {
      "text/plain": [
       "array([94.60349, 87.58368, 87.96817, 90.37454, 89.10157, 31.58276],\n",
       "      dtype=float32)"
      ]
     },
     "execution_count": 15,
     "metadata": {},
     "output_type": "execute_result"
    }
   ],
   "source": [
    "mmevents = events[events.Muon.counts == 2]\n",
    "zmm = mmevents.Muon[:, 0] + mmevents.Muon[:, 1]\n",
    "zmm.mass"
   ]
  },
  {
   "cell_type": "markdown",
   "metadata": {},
   "source": [
    "One can assign new variables to the arrays, with some caveats:\n",
    "\n",
    " * Assignment must use setitem (`x[\"name\"] = value`)\n",
    " * Assignment is only allowed on the initial NanoEvents object (before any cuts)\n",
    " \n",
    "(The latter limitation will go away with the migration to awkward1.)"
   ]
  },
  {
   "cell_type": "code",
   "execution_count": 16,
   "metadata": {},
   "outputs": [
    {
     "data": {
      "text/plain": [
       "<JaggedArray [[] [873.79083] [3608.228 2673.4111] ... [58.934647] [] []] at 0x0001241ec990>"
      ]
     },
     "execution_count": 16,
     "metadata": {},
     "output_type": "execute_result"
    }
   ],
   "source": [
    "events.Electron[\"pt2\"] = events.Electron.pt ** 2\n",
    "events.Electron.pt2"
   ]
  },
  {
   "cell_type": "markdown",
   "metadata": {},
   "source": [
    "## Using NanoEvents with a processor\n",
    "\n",
    "NanoEvents can also be used inside a coffea [processor](https://coffeateam.github.io/coffea/api/coffea.processor.ProcessorABC.html#coffea.processor.ProcessorABC), as shown in this simple Z peak sketch below. The key change from the usual `run_uproot_job` syntax is to pass `\"nano\": True` as an executor argument. The dataset name is included in the `events` object under the `metadata` attribute."
   ]
  },
  {
   "cell_type": "code",
   "execution_count": 17,
   "metadata": {},
   "outputs": [],
   "source": [
    "from coffea import processor, hist\n",
    "\n",
    "class MyZPeak(processor.ProcessorABC):\n",
    "    def __init__(self):\n",
    "        self._histo = hist.Hist(\n",
    "            \"Events\",\n",
    "            hist.Cat(\"dataset\", \"Dataset\"),\n",
    "            hist.Bin(\"mass\", \"Z mass\", 60, 60, 120),\n",
    "        )\n",
    "    \n",
    "    @property\n",
    "    def accumulator(self):\n",
    "        return self._histo\n",
    "    \n",
    "    # we will receive a NanoEvents instead of a coffea DataFrame\n",
    "    def process(self, events):\n",
    "        out = self.accumulator.identity()\n",
    "        mmevents = events[events.Muon.counts == 2]\n",
    "        zmm = mmevents.Muon[:, 0] + mmevents.Muon[:, 1]\n",
    "        out.fill(\n",
    "            dataset=events.metadata[\"dataset\"],\n",
    "            mass=zmm.mass.flatten(),\n",
    "        )\n",
    "        return out\n",
    "    \n",
    "    def postprocess(self, accumulator):\n",
    "        return accumulator"
   ]
  },
  {
   "cell_type": "code",
   "execution_count": 18,
   "metadata": {},
   "outputs": [
    {
     "data": {
      "application/vnd.jupyter.widget-view+json": {
       "model_id": "24474e0991b747ab9de4696fd194937e",
       "version_major": 2,
       "version_minor": 0
      },
      "text/plain": [
       "HBox(children=(IntProgress(value=0, description='Preprocessing', max=1, style=ProgressStyle(description_width=…"
      ]
     },
     "metadata": {},
     "output_type": "display_data"
    },
    {
     "name": "stdout",
     "output_type": "stream",
     "text": [
      "\n"
     ]
    },
    {
     "data": {
      "application/vnd.jupyter.widget-view+json": {
       "model_id": "1b7e1709ded5473a9f640f1a514bdc68",
       "version_major": 2,
       "version_minor": 0
      },
      "text/plain": [
       "HBox(children=(IntProgress(value=0, description='Processing', max=1, style=ProgressStyle(description_width='in…"
      ]
     },
     "metadata": {},
     "output_type": "display_data"
    },
    {
     "name": "stdout",
     "output_type": "stream",
     "text": [
      "\n"
     ]
    }
   ],
   "source": [
    "samples = {\n",
    "    \"DrellYan\": [\n",
    "        \"https://github.com/CoffeaTeam/coffea/raw/master/tests/samples/nano_dy.root\",\n",
    "    ]\n",
    "}\n",
    "\n",
    "result = processor.run_uproot_job(\n",
    "    samples,\n",
    "    \"Events\",\n",
    "    MyZPeak(),\n",
    "    processor.iterative_executor,\n",
    "    {\"nano\": True},\n",
    ")"
   ]
  },
  {
   "cell_type": "code",
   "execution_count": 19,
   "metadata": {},
   "outputs": [
    {
     "data": {
      "text/plain": [
       "<matplotlib.axes._subplots.AxesSubplot at 0x1243fd9d0>"
      ]
     },
     "execution_count": 19,
     "metadata": {},
     "output_type": "execute_result"
    },
    {
     "data": {
      "image/png": "[encoded data removed]",
      "text/plain": [
       "<Figure size 432x288 with 1 Axes>"
      ]
     },
     "metadata": {
      "needs_background": "light"
     },
     "output_type": "display_data"
    }
   ],
   "source": [
    "%matplotlib inline\n",
    "\n",
    "hist.plot1d(result)"
   ]
  }
 ],
 "metadata": {
  "kernelspec": {
   "display_name": "Python 3",
   "language": "python",
   "name": "python3"
  },
  "language_info": {
   "codemirror_mode": {
    "name": "ipython",
    "version": 3
   },
   "file_extension": ".py",
   "mimetype": "text/x-python",
   "name": "python",
   "nbconvert_exporter": "python",
   "pygments_lexer": "ipython3",
   "version": "3.7.6"
  }
 },
 "nbformat": 4,
 "nbformat_minor": 2
}
