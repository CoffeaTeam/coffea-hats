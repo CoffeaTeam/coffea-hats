{
 "cells": [
  {
   "cell_type": "markdown",
   "metadata": {},
   "source": [
    "# NanoEvents tutorial\n",
    "\n",
    "This is a rendered copy of [nanoevents.ipynb](https://github.com/CoffeaTeam/coffea/blob/master/binder/nanoevents.ipynb). You can optionally run it interactively on [binder at this link](https://mybinder.org/v2/gh/coffeateam/coffea/master?filepath=binder%2Fnanoevents.ipynb)\n",
    "\n",
    "NanoEvents is a Coffea utility to wrap flat nTuple structures (such as the CMS [NanoAOD](https://www.epj-conferences.org/articles/epjconf/pdf/2019/19/epjconf_chep2018_06021.pdf) format) into a single awkward array with appropriate object methods (such as [Lorentz vector methods](https://coffeateam.github.io/coffea/modules/coffea.nanoevents.methods.vector.html)), cross references, and nested objects, all lazily accessed from the source ROOT TTree via uproot. The interpretation of the TTree data is configurable via schema objects, which are community-supplied interpretations for various source file types. These schema objects allow a richer interpretation of the file contents than the [uproot.lazy](https://uproot4.readthedocs.io/en/latest/uproot4.behaviors.TBranch.lazy.html) method.\n",
    "\n",
    "In this demo, we will use NanoEvents to read a small CMS NanoAOD sample. The events object can be instantiated as follows:"
   ]
  },
  {
   "cell_type": "code",
   "execution_count": 1,
   "metadata": {},
   "outputs": [],
   "source": [
    "import awkward as ak\n",
    "from coffea.nanoevents import NanoEventsFactory, NanoAODSchema\n",
    "\n",
    "fname = \"root://xcache//store/mc/RunIIAutumn18NanoAODv7/DYJetsToLL_M-50_TuneCP5_13TeV-madgraphMLM-pythia8/NANOAODSIM/Nano02Apr2020_102X_upgrade2018_realistic_v21-v1/100000/3391856D-092B-624A-A3BB-F6112936F5D9.root\"\n",
    "events = NanoEventsFactory.from_root(fname, schemaclass=NanoAODSchema, entry_stop=10000).events()"
   ]
  },
  {
   "cell_type": "markdown",
   "metadata": {},
   "source": [
    "Consider looking at the [from_file](https://coffeateam.github.io/coffea/api/coffea.nanoevents.NanoEventsFactory.html#coffea.nanoevents.NanoEventsFactory.from_file) class method to see the optional arguments.\n",
    "\n",
    "The `events` object is an awkward array, which at its top level is a record array with one record for each \"collection\", where a collection is a grouping of fields (TBranches) based on the naming conventions of [NanoAODSchema](https://coffeateam.github.io/coffea/api/coffea.nanoevents.NanoAODSchema.html). For example, in the file we opened, the branches:\n",
    "```\n",
    "Generator_binvar\n",
    "Generator_scalePDF\n",
    "Generator_weight\n",
    "Generator_x1\n",
    "Generator_x2\n",
    "Generator_xpdf1\n",
    "Generator_xpdf2\n",
    "Generator_id1\n",
    "Generator_id2\n",
    "```\n",
    "are grouped into one sub-record named `Generator` which can be accessed using either getitem or getattr syntax, i.e. `events[\"Generator\"]` or `events.Generator`. e.g."
   ]
  },
  {
   "cell_type": "code",
   "execution_count": 2,
   "metadata": {},
   "outputs": [
    {
     "data": {
      "text/plain": [
       "<Array [21, 1, -1, 2, 1, ... -1, 2, -2, 2, 5] type='10000 * int32[parameters={\"_...'>"
      ]
     },
     "execution_count": 2,
     "metadata": {},
     "output_type": "execute_result"
    }
   ],
   "source": [
    "events.Generator.id1"
   ]
  },
  {
   "cell_type": "code",
   "execution_count": 3,
   "metadata": {},
   "outputs": [
    {
     "data": {
      "text/plain": [
       "['binvar', 'id1', 'id2', 'scalePDF', 'weight', 'x1', 'x2', 'xpdf1', 'xpdf2']"
      ]
     },
     "execution_count": 3,
     "metadata": {},
     "output_type": "execute_result"
    }
   ],
   "source": [
    "# all names can be listed with:\n",
    "events.Generator.fields"
   ]
  },
  {
   "cell_type": "markdown",
   "metadata": {},
   "source": [
    "In CMS NanoAOD, each TBranch has a help string, which is carried into the NanoEvents, e.g. executing the following cell should produce a help pop-up:\n",
    "```\n",
    "Type:            Array\n",
    "String form:     [1, -1, -1, 21, 21, 4, 2, -2, 2, 1, 3, 1, ... -1, -1, 1, -2, 2, 1, 2, -2, -1, 2, 1]\n",
    "Length:          40\n",
    "File:            ~/src/awkward-1.0/awkward1/highlevel.py\n",
    "Docstring:       id of first parton\n",
    "Class docstring: ...\n",
    "```\n",
    "where the `Docstring` shows information about the content of this array."
   ]
  },
  {
   "cell_type": "code",
   "execution_count": 4,
   "metadata": {},
   "outputs": [
    {
     "data": {
      "text/plain": [
       "\u001b[0;31mType:\u001b[0m            Array\n",
       "\u001b[0;31mString form:\u001b[0m     [21, 1, -1, 2, 1, 21, 1, 2, -1, 1, -5, 3, ... 1, 3, 21, -2, -1, 2, -1, 2, -2, 2, 5]\n",
       "\u001b[0;31mLength:\u001b[0m          10000\n",
       "\u001b[0;31mFile:\u001b[0m            /opt/conda/lib/python3.8/site-packages/awkward/highlevel.py\n",
       "\u001b[0;31mDocstring:\u001b[0m       id of first parton\n",
       "\u001b[0;31mClass docstring:\u001b[0m\n",
       "Args:\n",
       "    data (#ak.layout.Content, #ak.partition.PartitionedArray, #ak.Array, `np.ndarray`, `cp.ndarray`, `pyarrow.*`, str, dict, or iterable):\n",
       "        Data to wrap or convert into an array.\n",
       "           - If a NumPy array, the regularity of its dimensions is preserved\n",
       "             and the data are viewed, not copied.\n",
       "           - CuPy arrays are treated the same way as NumPy arrays except that\n",
       "             they default to `kernels=\"cuda\"`, rather than `kernels=\"cpu\"`.\n",
       "           - If a pyarrow object, calls #ak.from_arrow, preserving as much\n",
       "             metadata as possible, usually zero-copy.\n",
       "           - If a dict of str → columns, combines the columns into an\n",
       "             array of records (like Pandas's DataFrame constructor).\n",
       "           - If a string, the data are assumed to be JSON.\n",
       "           - If an iterable, calls #ak.from_iter, which assumes all dimensions\n",
       "             have irregular lengths.\n",
       "    behavior (None or dict): Custom #ak.behavior for this Array only.\n",
       "    with_name (None or str): Gives tuples and records a name that can be\n",
       "        used to override their behavior (see below).\n",
       "    check_valid (bool): If True, verify that the #layout is valid.\n",
       "    kernels (None, `\"cpu\"`, or `\"cuda\"`): If `\"cpu\"`, the Array will be placed in\n",
       "        main memory for use with other `\"cpu\"` Arrays and Records; if `\"cuda\"`,\n",
       "        the Array will be placed in GPU global memory using CUDA; if None,\n",
       "        the `data` are left untouched. For `\"cuda\"`,\n",
       "        [awkward-cuda-kernels](https://pypi.org/project/awkward-cuda-kernels)\n",
       "        must be installed, which can be invoked with\n",
       "        `pip install awkward[cuda] --upgrade`.\n",
       "\n",
       "High-level array that can contain data of any type.\n",
       "\n",
       "For most users, this is the only class in Awkward Array that matters: it\n",
       "is the entry point for data analysis with an emphasis on usability. It\n",
       "intentionally has a minimum of methods, preferring standalone functions\n",
       "like\n",
       "\n",
       "    ak.num(array1)\n",
       "    ak.combinations(array1)\n",
       "    ak.cartesian([array1, array2])\n",
       "    ak.zip({\"x\": array1, \"y\": array2, \"z\": array3})\n",
       "\n",
       "instead of bound methods like\n",
       "\n",
       "    array1.num()\n",
       "    array1.combinations()\n",
       "    array1.cartesian([array2, array3])\n",
       "    array1.zip(...)   # ?\n",
       "\n",
       "because its namespace is valuable for domain-specific parameters and\n",
       "functionality. For example, if records contain a field named `\"num\"`,\n",
       "they can be accessed as\n",
       "\n",
       "    array1.num\n",
       "\n",
       "instead of\n",
       "\n",
       "    array1[\"num\"]\n",
       "\n",
       "without any confusion or interference from #ak.num. The same is true\n",
       "for domain-specific methods that have been attached to the data. For\n",
       "instance, an analysis of mailing addresses might have a function that\n",
       "computes zip codes, which can be attached to the data with a method\n",
       "like\n",
       "\n",
       "    latlon.zip()\n",
       "\n",
       "without any confusion or interference from #ak.zip. Custom methods like\n",
       "this can be added with #ak.behavior, and so the namespace of Array\n",
       "attributes must be kept clear for such applications.\n",
       "\n",
       "See also #ak.Record.\n",
       "\n",
       "Interfaces to other libraries\n",
       "=============================\n",
       "\n",
       "NumPy\n",
       "*****\n",
       "\n",
       "When NumPy\n",
       "[universal functions](https://docs.scipy.org/doc/numpy/reference/ufuncs.html)\n",
       "(ufuncs) are applied to an ak.Array, they are passed through the Awkward\n",
       "data structure, applied to the numerical data at its leaves, and the output\n",
       "maintains the original structure.\n",
       "\n",
       "For example,\n",
       "\n",
       "    >>> array = ak.Array([[1, 4, 9], [], [16, 25]])\n",
       "    >>> np.sqrt(array)\n",
       "    <Array [[1, 2, 3], [], [4, 5]] type='3 * var * float64'>\n",
       "\n",
       "See also #ak.Array.__array_ufunc__.\n",
       "\n",
       "Some NumPy functions other than ufuncs are also handled properly in\n",
       "NumPy >= 1.17 (see\n",
       "[NEP 18](https://numpy.org/neps/nep-0018-array-function-protocol.html))\n",
       "and if an Awkward override exists. That is,\n",
       "\n",
       "    np.concatenate\n",
       "\n",
       "can be used on an Awkward Array because\n",
       "\n",
       "    ak.concatenate\n",
       "\n",
       "exists. If your NumPy is older than 1.17, use `ak.concatenate` directly.\n",
       "\n",
       "Pandas\n",
       "******\n",
       "\n",
       "Ragged arrays (list type) can be converted into Pandas\n",
       "[MultiIndex](https://pandas.pydata.org/pandas-docs/stable/user_guide/advanced.html)\n",
       "rows and nested records can be converted into MultiIndex columns. If the\n",
       "Awkward Array has only one \"branch\" of nested lists (i.e. different record\n",
       "fields do not have different-length lists, but a single chain of lists-of-lists\n",
       "is okay), then it can be losslessly converted into a single DataFrame.\n",
       "Otherwise, multiple DataFrames are needed, though they can be merged (with a\n",
       "loss of information).\n",
       "\n",
       "The #ak.to_pandas function performs this conversion; if `how=None`, it\n",
       "returns a list of DataFrames; otherwise, `how` is passed to `pd.merge` when\n",
       "merging the resultant DataFrames.\n",
       "\n",
       "Numba\n",
       "*****\n",
       "\n",
       "Arrays can be used in [Numba](http://numba.pydata.org/): they can be\n",
       "passed as arguments to a Numba-compiled function or returned as return\n",
       "values. The only limitation is that Awkward Arrays cannot be *created*\n",
       "inside the Numba-compiled function; to make outputs, consider\n",
       "#ak.ArrayBuilder.\n",
       "\n",
       "Arrow\n",
       "*****\n",
       "\n",
       "Arrays are convertible to and from [Apache Arrow](https://arrow.apache.org/),\n",
       "a standard for representing nested data structures in columnar arrays.\n",
       "See #ak.to_arrow and #ak.from_arrow.\n",
       "\n",
       "NumExpr\n",
       "*******\n",
       "\n",
       "[NumExpr](https://numexpr.readthedocs.io/en/latest/user_guide.html) can\n",
       "calculate expressions on a set of ak.Arrays, but only if the functions in\n",
       "`ak.numexpr` are used, not the functions in the `numexpr` library directly.\n",
       "\n",
       "Like NumPy ufuncs, the expression is evaluated on the numeric leaves of the\n",
       "data structure, maintaining structure in the output.\n",
       "\n",
       "See #ak.numexpr.evaluate to calculate an expression.\n",
       "\n",
       "See #ak.numexpr.re_evaluate to recalculate an expression without\n",
       "rebuilding its virtual machine.\n",
       "\n",
       "Autograd\n",
       "********\n",
       "\n",
       "Derivatives of a calculation on a set of ak.Arrays can be calculated with\n",
       "[Autograd](https://github.com/HIPS/autograd#readme), but only if the\n",
       "function in `ak.autograd` is used, not the functions in the `autograd`\n",
       "library directly.\n",
       "\n",
       "Like NumPy ufuncs, the function and its derivatives are evaluated on the\n",
       "numeric leaves of the data structure, maintaining structure in the output.\n",
       "\n",
       "See #ak.autograd.elementwise_grad to calculate a function and its\n",
       "derivatives elementwise on each numeric value in an ak.Array.\n"
      ]
     },
     "metadata": {},
     "output_type": "display_data"
    }
   ],
   "source": [
    "events.Generator.id1?"
   ]
  },
  {
   "cell_type": "markdown",
   "metadata": {},
   "source": [
    "Based on a collection's name or contents, some collections acquire additional _methods_, which are extra features exposed by the code in the mixin classes of the `coffea.nanoevents.methods` modules. For example, although `events.GenJet` has the fields:"
   ]
  },
  {
   "cell_type": "code",
   "execution_count": 5,
   "metadata": {},
   "outputs": [
    {
     "data": {
      "text/plain": [
       "['eta', 'mass', 'phi', 'pt', 'partonFlavour', 'hadronFlavour']"
      ]
     },
     "execution_count": 5,
     "metadata": {},
     "output_type": "execute_result"
    }
   ],
   "source": [
    "events.GenJet.fields"
   ]
  },
  {
   "cell_type": "markdown",
   "metadata": {},
   "source": [
    "we can access additional attributes associated to each generated jet by virtue of the fact that they can be interpreted as [Lorentz vectors](https://coffeateam.github.io/coffea/api/coffea.nanoevents.methods.vector.LorentzVector.html#coffea.nanoevents.methods.vector.LorentzVector):"
   ]
  },
  {
   "cell_type": "code",
   "execution_count": 6,
   "metadata": {},
   "outputs": [
    {
     "data": {
      "text/plain": [
       "<Array [[86.5, 40.5, 22.2, 25.4, ... [122]] type='10000 * var * float32'>"
      ]
     },
     "execution_count": 6,
     "metadata": {},
     "output_type": "execute_result"
    }
   ],
   "source": [
    "events.GenJet.energy"
   ]
  },
  {
   "cell_type": "markdown",
   "metadata": {},
   "source": [
    "We can call more complex methods, like computing the distance $\\Delta R = \\sqrt{\\Delta \\eta^2 + \\Delta \\phi ^2}$ between two LorentzVector objects:"
   ]
  },
  {
   "cell_type": "code",
   "execution_count": 7,
   "metadata": {},
   "outputs": [
    {
     "data": {
      "text/plain": [
       "<Array [[], [0.016, 3.02, ... 0.0192], []] type='10000 * option[var * float32]'>"
      ]
     },
     "execution_count": 7,
     "metadata": {},
     "output_type": "execute_result"
    }
   ],
   "source": [
    "# find distance between leading jet and all electrons in each event\n",
    "dr = ak.firsts(events.Jet).delta_r(events.Electron)\n",
    "dr"
   ]
  },
  {
   "cell_type": "code",
   "execution_count": 8,
   "metadata": {},
   "outputs": [
    {
     "data": {
      "text/plain": [
       "<Array [None, 0.016, None, ... 0.0192, None] type='10000 * ??float32'>"
      ]
     },
     "execution_count": 8,
     "metadata": {},
     "output_type": "execute_result"
    }
   ],
   "source": [
    "# find minimum distance\n",
    "ak.min(dr, axis=1)"
   ]
  },
  {
   "cell_type": "markdown",
   "metadata": {},
   "source": [
    "The assignment of methods classes to collections is done inside the schema object during the initial creation of the array, governed by the awkward array's `__record__` parameter and the associated behavior. See [ak.behavior](https://awkward-array.readthedocs.io/en/latest/ak.behavior.html) for a more detailed explanation of array behaviors.\n",
    "\n",
    "Additional methods provide convenience functions for interpreting some branches, e.g. CMS NanoAOD packs several jet identification flag bits into a single integer, `jetId`. By implementing the bit-twiddling in the [Jet mixin](https://github.com/CoffeaTeam/coffea/blob/7045c06b9448d2be4315e65d432e6d8bd117d6d7/coffea/nanoevents/methods/nanoaod.py#L279-L282), the analsyis code becomes more clear:"
   ]
  },
  {
   "cell_type": "code",
   "execution_count": 9,
   "metadata": {},
   "outputs": [
    {
     "name": "stdout",
     "output_type": "stream",
     "text": [
      "[[2, 6, 6, 6, 6], [2, 2, 6], [6, 6, 6], ... [6, 6, 6, 6], [6, 6, 6, 6, 6, 6, 6, 0]]\n",
      "[[True, True, True, True, True], ... True, True, True, True, True, True, False]]\n"
     ]
    }
   ],
   "source": [
    "print(events.Jet.jetId)\n",
    "print(events.Jet.isTight)"
   ]
  },
  {
   "cell_type": "markdown",
   "metadata": {},
   "source": [
    "We can also define convenience functions to unpack and apply some mask to a set of flags, e.g. for generated particles:"
   ]
  },
  {
   "cell_type": "code",
   "execution_count": 10,
   "metadata": {},
   "outputs": [
    {
     "name": "stdout",
     "output_type": "stream",
     "text": [
      "Raw status flags: [[2433, 2433, 4481, 2433, 385, 257, ... 12352, 28738, 12354, 12354, 12352, 12352]]\n"
     ]
    },
    {
     "data": {
      "text/plain": [
       "<Array [[False, False, ... False, False]] type='10000 * var * bool'>"
      ]
     },
     "execution_count": 10,
     "metadata": {},
     "output_type": "execute_result"
    }
   ],
   "source": [
    "print(f\"Raw status flags: {events.GenPart.statusFlags}\")\n",
    "events.GenPart.hasFlags(['isPrompt', 'isLastCopy'])"
   ]
  },
  {
   "cell_type": "markdown",
   "metadata": {},
   "source": [
    "CMS NanoAOD also contains pre-computed cross-references for some types of collections. For example, there is a TBranch `Electron_genPartIdx` which indexes the `GenPart` collection per event to give the matched generated particle, and `-1` if no match is found. NanoEvents transforms these indices into an awkward _indexed array_ pointing to the collection, so that one can directly access the matched particle using getattr syntax:"
   ]
  },
  {
   "cell_type": "code",
   "execution_count": 11,
   "metadata": {},
   "outputs": [
    {
     "data": {
      "text/plain": [
       "<Array [[], [-11, 11], ... [11, -11], []] type='10000 * var * ?int32[parameters=...'>"
      ]
     },
     "execution_count": 11,
     "metadata": {},
     "output_type": "execute_result"
    }
   ],
   "source": [
    "events.Electron.matched_gen.pdgId"
   ]
  },
  {
   "cell_type": "code",
   "execution_count": 12,
   "metadata": {},
   "outputs": [
    {
     "data": {
      "text/plain": [
       "<Array [[74.2, 38.4], [], ... [], [None, None]] type='10000 * var * ?float32[par...'>"
      ]
     },
     "execution_count": 12,
     "metadata": {},
     "output_type": "execute_result"
    }
   ],
   "source": [
    "events.Muon.matched_jet.pt"
   ]
  },
  {
   "cell_type": "markdown",
   "metadata": {},
   "source": [
    "For generated particles, the parent index is similarly mapped:"
   ]
  },
  {
   "cell_type": "code",
   "execution_count": 13,
   "metadata": {},
   "outputs": [
    {
     "data": {
      "text/plain": [
       "<Array [[None, None, 21, ... -423, 421, 421]] type='10000 * var * ?int32[paramet...'>"
      ]
     },
     "execution_count": 13,
     "metadata": {},
     "output_type": "execute_result"
    }
   ],
   "source": [
    "events.GenPart.parent.pdgId"
   ]
  },
  {
   "cell_type": "markdown",
   "metadata": {},
   "source": [
    "In addition, using the parent index, a helper method computes the inverse mapping, namely, `children`. As such, one can find particle siblings with:"
   ]
  },
  {
   "cell_type": "code",
   "execution_count": 14,
   "metadata": {},
   "outputs": [
    {
     "data": {
      "text/plain": [
       "<Array [[None, None, [23, 21, ... [-13, 14]]] type='10000 * var * option[var * ?...'>"
      ]
     },
     "execution_count": 14,
     "metadata": {},
     "output_type": "execute_result"
    }
   ],
   "source": [
    "events.GenPart.parent.children.pdgId\n",
    "# notice this is a doubly-jagged array"
   ]
  },
  {
   "cell_type": "markdown",
   "metadata": {},
   "source": [
    "Since often one wants to shortcut repeated particles in a decay sequence, a helper method `distinctParent` is also available. Here we use it to find the parent particle ID for all prompt electrons:"
   ]
  },
  {
   "cell_type": "code",
   "execution_count": 15,
   "metadata": {},
   "outputs": [
    {
     "data": {
      "text/plain": [
       "<Array [[], [23, 23], [], ... [], [2, 2], []] type='10000 * var * ?int32[paramet...'>"
      ]
     },
     "execution_count": 15,
     "metadata": {},
     "output_type": "execute_result"
    }
   ],
   "source": [
    "events.GenPart[\n",
    "    (abs(events.GenPart.pdgId) == 11)\n",
    "    & events.GenPart.hasFlags(['isPrompt', 'isLastCopy'])\n",
    "].distinctParent.pdgId"
   ]
  },
  {
   "cell_type": "markdown",
   "metadata": {},
   "source": [
    "Events can be filtered like any other awkward array using boolean fancy-indexing"
   ]
  },
  {
   "cell_type": "code",
   "execution_count": 16,
   "metadata": {},
   "outputs": [
    {
     "data": {
      "text/plain": [
       "<Array [90.3, 85.2, 88.9, ... 80.4, 92.4, 27.2] type='1721 * float32'>"
      ]
     },
     "execution_count": 16,
     "metadata": {},
     "output_type": "execute_result"
    }
   ],
   "source": [
    "mmevents = events[ak.num(events.Muon) == 2]\n",
    "zmm = mmevents.Muon[:, 0] + mmevents.Muon[:, 1]\n",
    "zmm.mass"
   ]
  },
  {
   "cell_type": "markdown",
   "metadata": {},
   "source": [
    "One can assign new variables to the arrays, with some caveats:\n",
    "\n",
    " * Assignment must use setitem (`events[\"path\", \"to\", \"name\"] = value`)\n",
    " * Assignment to a sliced `events` won't be accessible from the original variable\n",
    " * New variables are not visible from cross-references"
   ]
  },
  {
   "cell_type": "code",
   "execution_count": 17,
   "metadata": {},
   "outputs": [
    {
     "data": {
      "text/plain": [
       "<Array [[], [], [], [], ... [], [], [], []] type='1721 * var * float32'>"
      ]
     },
     "execution_count": 17,
     "metadata": {},
     "output_type": "execute_result"
    }
   ],
   "source": [
    "mmevents[\"Electron\", \"myvar2\"] = mmevents.Electron.pt + zmm.mass\n",
    "mmevents.Electron.myvar2"
   ]
  },
  {
   "cell_type": "markdown",
   "metadata": {},
   "source": [
    "## Using NanoEvents with a processor\n",
    "\n",
    "NanoEvents can also be used inside a coffea [processor](https://coffeateam.github.io/coffea/api/coffea.processor.ProcessorABC.html#coffea.processor.ProcessorABC), as shown in this simple Z peak sketch below. To use NanoEvents with `run_uproot_job`, pass the appropriate schema as an executor argument, e.g. `\"schema\": NanoAODSchema` for this example. The dataset name is included in the `events` object under the `metadata` attribute."
   ]
  },
  {
   "cell_type": "code",
   "execution_count": 23,
   "metadata": {},
   "outputs": [],
   "source": [
    "import hist\n",
    "from coffea import processor\n",
    "\n",
    "class MyZPeak(processor.ProcessorABC):\n",
    "    def process(self, events):\n",
    "        dataset = events.metadata['dataset']\n",
    "        muons = events.Muon\n",
    "\n",
    "        cut = (ak.num(muons) == 2) & (ak.sum(muons.charge, axis=1) == 0)\n",
    "        # add first and second muon in every event together\n",
    "        dimuon = muons[cut][:, 0] + muons[cut][:, 1]\n",
    "\n",
    "        return {\n",
    "            dataset: {\n",
    "                \"entries\": len(events),\n",
    "                \"mass\": (\n",
    "                    hist.Hist.new\n",
    "                    .Reg(120, 0., 120., label=\"$m_{\\mu\\mu}$ [GeV]\")\n",
    "                    .Double()\n",
    "                    .fill(dimuon.mass)\n",
    "                )\n",
    "            }\n",
    "        }\n",
    "\n",
    "    def postprocess(self, accumulator):\n",
    "        return accumulator"
   ]
  },
  {
   "cell_type": "code",
   "execution_count": 24,
   "metadata": {},
   "outputs": [
    {
     "data": {
      "application/vnd.jupyter.widget-view+json": {
       "model_id": "a3a7009d02714a83a845c43bbfb1089e",
       "version_major": 2,
       "version_minor": 0
      },
      "text/plain": [
       "Processing:   0%|          | 0/19 [00:00<?, ?chunk/s]"
      ]
     },
     "metadata": {},
     "output_type": "display_data"
    }
   ],
   "source": [
    "samples = {\n",
    "    \"DrellYan\": [fname]\n",
    "}\n",
    "\n",
    "result = processor.run_uproot_job(\n",
    "    samples,\n",
    "    \"Events\",\n",
    "    MyZPeak(),\n",
    "    processor.iterative_executor,\n",
    "    {\"schema\": NanoAODSchema},\n",
    ")"
   ]
  },
  {
   "cell_type": "code",
   "execution_count": 25,
   "metadata": {},
   "outputs": [
    {
     "data": {
      "text/plain": [
       "{'DrellYan': {'entries': 1906047,\n",
       "  'mass': Hist(Regular(120, 0, 120, label='$m_{\\\\mu\\\\mu}$ [GeV]'), storage=Double()) # Sum: 306157.0 (309487.0 with flow)}}"
      ]
     },
     "execution_count": 25,
     "metadata": {},
     "output_type": "execute_result"
    }
   ],
   "source": [
    "result"
   ]
  },
  {
   "cell_type": "code",
   "execution_count": 26,
   "metadata": {},
   "outputs": [
    {
     "data": {
      "image/png": "[encoded data removed]",
      "text/plain": [
       "<Figure size 432x288 with 1 Axes>"
      ]
     },
     "metadata": {
      "needs_background": "light"
     },
     "output_type": "display_data"
    }
   ],
   "source": [
    "result[\"DrellYan\"][\"mass\"].plot1d();"
   ]
  },
  {
   "cell_type": "code",
   "execution_count": null,
   "metadata": {},
   "outputs": [],
   "source": []
  }
 ],
 "metadata": {
  "kernelspec": {
   "display_name": "Python 3",
   "language": "python",
   "name": "python3"
  },
  "language_info": {
   "codemirror_mode": {
    "name": "ipython",
    "version": 3
   },
   "file_extension": ".py",
   "mimetype": "text/x-python",
   "name": "python",
   "nbconvert_exporter": "python",
   "pygments_lexer": "ipython3",
   "version": "3.8.8"
  }
 },
 "nbformat": 4,
 "nbformat_minor": 4
}
