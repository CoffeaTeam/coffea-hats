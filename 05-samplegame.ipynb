{
 "cells": [
  {
   "cell_type": "markdown",
   "metadata": {},
   "source": [
    "# The sample guessing game\n",
    "In this game, we analyze 6 files, `sample[0-6].root` that are each a small 500k event sample of a CMS NanoAOD dataset.  All generator-level branches have been removed.  Your task is to figure out which file came from which dataset.  To make it a bit easier, here are the 6 possible datasets:\n",
    "\n",
    "   * `DY2JetsToLL_M-50_TuneCP5_13TeV-madgraphMLM-pythia8`, producing $Z(\\to \\ell\\ell)+2j$ events via QCD processes;\n",
    "   * `EWKZ2Jets_ZToLL_M-50_TuneCP5_PSweights_13TeV-madgraph-pythia8`, producing $Z(\\to \\ell\\ell)+2j$ events via EW processes (i.e. primarily vector boson fusion);\n",
    "   * `GluGluHToWWTo2L2Nu_M125_13TeV_powheg2_JHUGenV714_pythia8`, producing Higgs boson events through gluon fusion, where the Higgs boson decays via $H\\to WW^{*}\\to 2\\ell2\\nu$;\n",
    "   * `GluGluHToZZTo2L2Q_M125_13TeV_powheg2_JHUGenV7011_pythia8`, producing Higgs boson events through gluon fusion, where the Higgs boson decays via $H\\to ZZ^{*}\\to 2\\ell2q$;\n",
    "   * `TTTo2L2Nu_TuneCP5_13TeV-powheg-pythia8`, producing di-top events, where both top quarks must decay leptonically; and\n",
    "   * `WWTo2L2Nu_NNPDF31_TuneCP5_13TeV-powheg-pythia8`, producing WW diboson events, where both W bosons decay leptonically $W\\to \\ell\\nu$.\n",
    "   \n",
    "In all cases, the lepton can be any flavor, $\\ell\\in\\{e,\\mu,\\tau\\}$.  All 6 datasets were produced with the `RunIIAutumn18NanoAODv4-Nano14Dec2018_102X_upgrade2018_realistic_v16-v1` conditions tag.\n",
    "\n",
    "If you are playing this game as part of the columnar analysis HATS, please use the existing conda environment as setup [here](https://github.com/jpivarski/2019-05-28-lpchats-numpy-uproot-awkward#2019-05-28-lpchats-numpy-uproot-awkward), additionally with\n",
    "`pip install fnal-column-analysis-tools`"
   ]
  },
  {
   "cell_type": "code",
   "execution_count": null,
   "metadata": {},
   "outputs": [],
   "source": [
    "import numpy as np\n",
    "import matplotlib.pyplot as plt\n",
    "\n",
    "import uproot\n",
    "import uproot_methods\n",
    "import awkward\n",
    "\n",
    "from fnal_column_analysis_tools import hist\n",
    "from fnal_column_analysis_tools.hist import plot"
   ]
  },
  {
   "cell_type": "code",
   "execution_count": null,
   "metadata": {},
   "outputs": [],
   "source": [
    "# This downloads 4.3 GB of data, if you prefer to work with remote files, skip this step\n",
    "# make sure to \"kinit username@FNAL.GOV\" first\n",
    "# download speed on wifi was about 5MB/s, and took 14 minutes total\n",
    "!mkdir -p data\n",
    "!scp cmslpc-sl6.fnal.gov:/eos/uscms/store/user/ncsmith/samplegame/sample0.root data/\n",
    "!scp cmslpc-sl6.fnal.gov:/eos/uscms/store/user/ncsmith/samplegame/sample1.root data/\n",
    "!scp cmslpc-sl6.fnal.gov:/eos/uscms/store/user/ncsmith/samplegame/sample2.root data/\n",
    "!scp cmslpc-sl6.fnal.gov:/eos/uscms/store/user/ncsmith/samplegame/sample3.root data/\n",
    "!scp cmslpc-sl6.fnal.gov:/eos/uscms/store/user/ncsmith/samplegame/sample4.root data/\n",
    "!scp cmslpc-sl6.fnal.gov:/eos/uscms/store/user/ncsmith/samplegame/sample5.root data/"
   ]
  },
  {
   "cell_type": "code",
   "execution_count": null,
   "metadata": {},
   "outputs": [],
   "source": [
    "# Alternative download method, if you have your grid certificate installed properly\n",
    "# See https://gist.github.com/nsmith-/0e56f30ff386254b9fcc7164647deba7 for an installation guide\n",
    "!mkdir -p data\n",
    "!xrdcp root://cmseos.fnal.gov//store/user/ncsmith/samplegame/sample0.root data/\n",
    "!xrdcp root://cmseos.fnal.gov//store/user/ncsmith/samplegame/sample1.root data/\n",
    "!xrdcp root://cmseos.fnal.gov//store/user/ncsmith/samplegame/sample2.root data/\n",
    "!xrdcp root://cmseos.fnal.gov//store/user/ncsmith/samplegame/sample3.root data/\n",
    "!xrdcp root://cmseos.fnal.gov//store/user/ncsmith/samplegame/sample4.root data/\n",
    "!xrdcp root://cmseos.fnal.gov//store/user/ncsmith/samplegame/sample5.root data/"
   ]
  },
  {
   "cell_type": "code",
   "execution_count": null,
   "metadata": {},
   "outputs": [],
   "source": [
    "import os\n",
    "\n",
    "if os.path.exists('data/sample0.root'):\n",
    "    prefix = 'data/'\n",
    "else:\n",
    "    prefix = 'root://cmseos.fnal.gov//store/user/ncsmith/samplegame/'\n",
    "\n",
    "samplefiles = [uproot.open(prefix+\"sample%d.root\" % i) for i in range(6)]\n",
    "samples = [f['Events'] for f in samplefiles]"
   ]
  },
  {
   "cell_type": "code",
   "execution_count": null,
   "metadata": {},
   "outputs": [],
   "source": [
    "# Here's a nice helper function to make the jagged tables for objects\n",
    "def nanoArray(tree, prefix, column_names, has_p4=True):\n",
    "    columns = {}\n",
    "    if has_p4:\n",
    "        columns['p4'] = uproot_methods.TLorentzVectorArray.from_ptetaphim(\n",
    "            tree[prefix+'pt'].array(),\n",
    "            tree[prefix+'eta'].array(),\n",
    "            tree[prefix+'phi'].array(),\n",
    "            tree[prefix+'mass'].array(),\n",
    "        )\n",
    "    columns.update({k: tree[prefix+k].array() for k in column_names})\n",
    "    return awkward.JaggedArray.zip(**columns)"
   ]
  },
  {
   "cell_type": "code",
   "execution_count": null,
   "metadata": {},
   "outputs": [],
   "source": [
    "# Here's a list of all the available branches in each file\n",
    "samples[0].show()"
   ]
  },
  {
   "cell_type": "code",
   "execution_count": null,
   "metadata": {},
   "outputs": [],
   "source": [
    "# I managed to figure things out with these variables\n",
    "# but one could definitely use different/additional variables\n",
    "electrons0 = nanoArray(samples[0], 'Electron_', ['charge', ])\n",
    "muons0 = nanoArray(samples[0], 'Muon_', ['charge', ])\n",
    "jets0 = nanoArray(samples[0], 'Jet_', ['btagCSVV2', 'muonIdx1', 'electronIdx1'])\n",
    "met0 = uproot_methods.TVector2Array.from_polar(\n",
    "    samples[0]['MET_pt'].array().flatten(),\n",
    "    samples[0]['MET_phi'].array().flatten(),\n",
    ")"
   ]
  },
  {
   "cell_type": "code",
   "execution_count": null,
   "metadata": {},
   "outputs": [],
   "source": [
    "plt.hist(electrons0['p4'].pt.flatten(), bins=np.linspace(0,200,200));"
   ]
  },
  {
   "cell_type": "code",
   "execution_count": null,
   "metadata": {},
   "outputs": [],
   "source": []
  }
 ],
 "metadata": {
  "kernelspec": {
   "display_name": "Python 3",
   "language": "python",
   "name": "python3"
  },
  "language_info": {
   "codemirror_mode": {
    "name": "ipython",
    "version": 3
   },
   "file_extension": ".py",
   "mimetype": "text/x-python",
   "name": "python",
   "nbconvert_exporter": "python",
   "pygments_lexer": "ipython3",
   "version": "3.7.3"
  }
 },
 "nbformat": 4,
 "nbformat_minor": 2
}
