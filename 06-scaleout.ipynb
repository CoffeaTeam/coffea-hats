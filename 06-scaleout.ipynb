{
 "cells": [
  {
   "cell_type": "code",
   "execution_count": null,
   "id": "6ecec3ca",
   "metadata": {},
   "outputs": [],
   "source": [
    "import awkward as ak\n",
    "import hist\n",
    "from coffea import processor\n",
    "import corrections\n",
    "\n",
    "\n",
    "class MyZPeak(processor.ProcessorABC):\n",
    "    def process(self, events):\n",
    "        dataset = events.metadata['dataset']\n",
    "        isRealData = \"genWeight\" not in events.fields\n",
    "        sumw = 0. if isRealData else ak.sum(events.genWeight)\n",
    "        cutflow = {\"start\": len(events)}\n",
    "        \n",
    "        if isRealData:\n",
    "            events = events[\n",
    "                corrections.lumimask(events.run, events.luminosityBlock)\n",
    "            ]\n",
    "            cutflow[\"lumimask\"] = len(events)\n",
    "    \n",
    "        events[\"goodmuons\"] = events.Muon[\n",
    "            (events.Muon.pt >= 20.)\n",
    "            & events.Muon.tightId\n",
    "        ]\n",
    "\n",
    "        events = events[\n",
    "            (ak.num(events.goodmuons) == 2)\n",
    "            & (ak.sum(events.goodmuons.charge, axis=1) == 0)\n",
    "        ]\n",
    "        cutflow[\"ossf\"] = len(events)\n",
    "        \n",
    "        # add first and second muon p4 in every event together\n",
    "        events[\"zcand\"] = events.goodmuons[:, 0] + events.goodmuons[:, 1]\n",
    "\n",
    "        # require trigger\n",
    "        events = events[\n",
    "            # https://twiki.cern.ch/twiki/bin/view/CMS/MuonHLT2018\n",
    "            events.HLT.Mu17_TrkIsoVVL_Mu8_TrkIsoVVL_DZ_Mass3p8\n",
    "        ]\n",
    "        cutflow[\"trigger\"] = len(events)\n",
    "\n",
    "        return {\n",
    "            dataset: {\n",
    "                \"entries\": len(events),\n",
    "                \"sumw\": sumw,\n",
    "                \"cutflow\": cutflow,\n",
    "                \"mass\": (\n",
    "                    hist.Hist.new\n",
    "                    .Reg(120, 0., 120., label=\"$m_{\\mu\\mu}$ [GeV]\")\n",
    "                    .Double()\n",
    "                    .fill(events.zcand.mass)\n",
    "                )\n",
    "            }\n",
    "        }\n",
    "\n",
    "    def postprocess(self, accumulator):\n",
    "        return accumulator"
   ]
  },
  {
   "cell_type": "code",
   "execution_count": null,
   "id": "5a9702a9",
   "metadata": {},
   "outputs": [],
   "source": [
    "from dask.distributed import Client\n",
    "\n",
    "client = Client(\"tls://...:8786\")\n",
    "client"
   ]
  },
  {
   "cell_type": "code",
   "execution_count": null,
   "id": "6e4fa5b5",
   "metadata": {},
   "outputs": [],
   "source": [
    "import shutil\n",
    "shutil.make_archive(\"corrections\", \"zip\", base_dir=\"corrections\")\n",
    "client.upload_file(\"corrections.zip\")"
   ]
  },
  {
   "cell_type": "code",
   "execution_count": null,
   "id": "7f2e7388",
   "metadata": {},
   "outputs": [],
   "source": [
    "result = processor.run_uproot_job(\n",
    "    \"fileset.json\",\n",
    "    \"Events\",\n",
    "    MyZPeak(),\n",
    "    processor.dask_executor,\n",
    "    {\"schema\": processor.NanoAODSchema, \"client\": client},\n",
    "    # maxchunks=5,\n",
    ")"
   ]
  },
  {
   "cell_type": "code",
   "execution_count": null,
   "id": "9e7a8b71",
   "metadata": {},
   "outputs": [],
   "source": [
    "data = result[\"DoubleMuon2018A\"][\"mass\"]\n",
    "\n",
    "lumi = 14.0\n",
    "xsweight = lumi * 1e3 * 6225.42 / result[\"ZJets2018\"][\"cutflow\"][\"start\"]\n",
    "sim = result[\"ZJets2018\"][\"mass\"] * xsweight"
   ]
  },
  {
   "cell_type": "code",
   "execution_count": null,
   "id": "9df6ee82",
   "metadata": {},
   "outputs": [],
   "source": [
    "import matplotlib.pyplot as plt\n",
    "\n",
    "fig, ax = plt.subplots()\n",
    "sim.plot(ax=ax, histtype=\"fill\", label=\"Z+jets\")\n",
    "data.plot(ax=ax, histtype=\"errorbar\", color=\"k\", label=\"Data\")\n",
    "ax.set_xlim(60, 120)\n",
    "ax.legend()"
   ]
  },
  {
   "cell_type": "code",
   "execution_count": null,
   "id": "e69b81e0",
   "metadata": {},
   "outputs": [],
   "source": [
    "result[\"DoubleMuon2018A\"][\"cutflow\"]"
   ]
  },
  {
   "cell_type": "code",
   "execution_count": null,
   "id": "d62acb50",
   "metadata": {},
   "outputs": [],
   "source": []
  }
 ],
 "metadata": {
  "kernelspec": {
   "display_name": "Python 3",
   "language": "python",
   "name": "python3"
  },
  "language_info": {
   "codemirror_mode": {
    "name": "ipython",
    "version": 3
   },
   "file_extension": ".py",
   "mimetype": "text/x-python",
   "name": "python",
   "nbconvert_exporter": "python",
   "pygments_lexer": "ipython3",
   "version": "3.8.8"
  }
 },
 "nbformat": 4,
 "nbformat_minor": 5
}
